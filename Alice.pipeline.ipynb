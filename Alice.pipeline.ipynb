{
 "cells": [
  {
   "cell_type": "code",
   "execution_count": 1,
   "metadata": {},
   "outputs": [],
   "source": [
    "# Import libraries and set desired options\n",
    "import warnings\n",
    "warnings.filterwarnings('ignore')\n",
    "\n",
    "import pickle\n",
    "import numpy as np\n",
    "import pandas as pd\n",
    "from scipy.sparse import csr_matrix, hstack\n",
    "from sklearn.preprocessing import StandardScaler\n",
    "from sklearn.metrics import roc_auc_score\n",
    "from sklearn.linear_model import LogisticRegression\n",
    "from matplotlib import pyplot as plt\n",
    "import seaborn as sns\n",
    "sns.set()\n",
    "\n",
    "from tqdm import tqdm_notebook as tqdm"
   ]
  },
  {
   "cell_type": "markdown",
   "metadata": {},
   "source": [
    "# 1.Data preparation"
   ]
  },
  {
   "cell_type": "code",
   "execution_count": 2,
   "metadata": {},
   "outputs": [
    {
     "name": "stdout",
     "output_type": "stream",
     "text": [
      "Websites total: 48371\n"
     ]
    }
   ],
   "source": [
    "# Read the training and test data sets, change paths if needed\n",
    "times = ['time%s' % i for i in range(1, 11)]\n",
    "sites = ['site%s' % i for i in range(1, 11)]\n",
    "\n",
    "train_df = pd.read_csv('./train_sessions.csv',\n",
    "                       index_col='session_id', parse_dates=times)\n",
    "test_df = pd.read_csv('./test_sessions.csv',\n",
    "                      index_col='session_id', parse_dates=times)\n",
    "\n",
    "# Sort the data by time\n",
    "train_df = train_df.sort_values(by='time1')\n",
    "\n",
    "# Change site1, ..., site10 columns type to integer and fill NA-values with zeros\n",
    "train_df[sites] = train_df[sites].fillna(0).astype(np.uint16)\n",
    "test_df[sites] = test_df[sites].fillna(0).astype(np.uint16)\n",
    "\n",
    "# Load websites dictionary\n",
    "with open(r\"./site_dic.pkl\", \"rb\") as input_file:\n",
    "    site_dict = pickle.load(input_file)\n",
    "\n",
    "# Create dataframe for the dictionary\n",
    "sites_dict = pd.DataFrame(list(site_dict.keys()), index=list(site_dict.values()), \n",
    "                          columns=['site'])\n",
    "\n",
    "print(u'Websites total:', sites_dict.shape[0])"
   ]
  },
  {
   "cell_type": "code",
   "execution_count": 3,
   "metadata": {},
   "outputs": [],
   "source": [
    "# Create a separate dataframe where we will work with timestamps\n",
    "time_df = pd.DataFrame(index=train_df.index)\n",
    "\n",
    "time_df['target'] = train_df['target']\n",
    "time_df['min'] = train_df[times].min(axis=1)\n",
    "time_df['max'] = train_df[times].max(axis=1)\n",
    "time_df['seconds'] = (\n",
    "    (time_df['max'] - time_df['min']) / np.timedelta64(1, 's'))"
   ]
  },
  {
   "cell_type": "code",
   "execution_count": 4,
   "metadata": {},
   "outputs": [],
   "source": [
    "# Index to split the training and test data sets\n",
    "idx_split = train_df.shape[0]\n",
    "\n",
    "# Our target variable\n",
    "y_train = train_df['target']\n",
    "\n",
    "# United dataframe of the initial data \n",
    "full_df = pd.concat([train_df.drop('target', axis=1), test_df])"
   ]
  },
  {
   "cell_type": "code",
   "execution_count": 5,
   "metadata": {},
   "outputs": [
    {
     "data": {
      "text/html": [
       "<div>\n",
       "<style scoped>\n",
       "    .dataframe tbody tr th:only-of-type {\n",
       "        vertical-align: middle;\n",
       "    }\n",
       "\n",
       "    .dataframe tbody tr th {\n",
       "        vertical-align: top;\n",
       "    }\n",
       "\n",
       "    .dataframe thead th {\n",
       "        text-align: right;\n",
       "    }\n",
       "</style>\n",
       "<table border=\"1\" class=\"dataframe\">\n",
       "  <thead>\n",
       "    <tr style=\"text-align: right;\">\n",
       "      <th></th>\n",
       "      <th>site1</th>\n",
       "      <th>site2</th>\n",
       "      <th>site3</th>\n",
       "      <th>site4</th>\n",
       "      <th>site5</th>\n",
       "      <th>site6</th>\n",
       "      <th>site7</th>\n",
       "      <th>site8</th>\n",
       "      <th>site9</th>\n",
       "      <th>site10</th>\n",
       "    </tr>\n",
       "    <tr>\n",
       "      <th>session_id</th>\n",
       "      <th></th>\n",
       "      <th></th>\n",
       "      <th></th>\n",
       "      <th></th>\n",
       "      <th></th>\n",
       "      <th></th>\n",
       "      <th></th>\n",
       "      <th></th>\n",
       "      <th></th>\n",
       "      <th></th>\n",
       "    </tr>\n",
       "  </thead>\n",
       "  <tbody>\n",
       "    <tr>\n",
       "      <th>21669</th>\n",
       "      <td>56</td>\n",
       "      <td>55</td>\n",
       "      <td>0</td>\n",
       "      <td>0</td>\n",
       "      <td>0</td>\n",
       "      <td>0</td>\n",
       "      <td>0</td>\n",
       "      <td>0</td>\n",
       "      <td>0</td>\n",
       "      <td>0</td>\n",
       "    </tr>\n",
       "    <tr>\n",
       "      <th>54843</th>\n",
       "      <td>56</td>\n",
       "      <td>55</td>\n",
       "      <td>56</td>\n",
       "      <td>55</td>\n",
       "      <td>0</td>\n",
       "      <td>0</td>\n",
       "      <td>0</td>\n",
       "      <td>0</td>\n",
       "      <td>0</td>\n",
       "      <td>0</td>\n",
       "    </tr>\n",
       "    <tr>\n",
       "      <th>77292</th>\n",
       "      <td>946</td>\n",
       "      <td>946</td>\n",
       "      <td>951</td>\n",
       "      <td>946</td>\n",
       "      <td>946</td>\n",
       "      <td>945</td>\n",
       "      <td>948</td>\n",
       "      <td>784</td>\n",
       "      <td>949</td>\n",
       "      <td>946</td>\n",
       "    </tr>\n",
       "    <tr>\n",
       "      <th>114021</th>\n",
       "      <td>945</td>\n",
       "      <td>948</td>\n",
       "      <td>949</td>\n",
       "      <td>948</td>\n",
       "      <td>945</td>\n",
       "      <td>946</td>\n",
       "      <td>947</td>\n",
       "      <td>945</td>\n",
       "      <td>946</td>\n",
       "      <td>946</td>\n",
       "    </tr>\n",
       "    <tr>\n",
       "      <th>146670</th>\n",
       "      <td>947</td>\n",
       "      <td>950</td>\n",
       "      <td>948</td>\n",
       "      <td>947</td>\n",
       "      <td>950</td>\n",
       "      <td>952</td>\n",
       "      <td>946</td>\n",
       "      <td>951</td>\n",
       "      <td>946</td>\n",
       "      <td>947</td>\n",
       "    </tr>\n",
       "  </tbody>\n",
       "</table>\n",
       "</div>"
      ],
      "text/plain": [
       "            site1  site2  site3  site4  site5  site6  site7  site8  site9  \\\n",
       "session_id                                                                  \n",
       "21669          56     55      0      0      0      0      0      0      0   \n",
       "54843          56     55     56     55      0      0      0      0      0   \n",
       "77292         946    946    951    946    946    945    948    784    949   \n",
       "114021        945    948    949    948    945    946    947    945    946   \n",
       "146670        947    950    948    947    950    952    946    951    946   \n",
       "\n",
       "            site10  \n",
       "session_id          \n",
       "21669            0  \n",
       "54843            0  \n",
       "77292          946  \n",
       "114021         946  \n",
       "146670         947  "
      ]
     },
     "execution_count": 5,
     "metadata": {},
     "output_type": "execute_result"
    }
   ],
   "source": [
    "# Dataframe with indices of visited websites in session\n",
    "full_sites = full_df[sites]\n",
    "full_sites.head()"
   ]
  },
  {
   "cell_type": "markdown",
   "metadata": {},
   "source": [
    "### Reducing memory usage by csr_matrix"
   ]
  },
  {
   "cell_type": "code",
   "execution_count": 6,
   "metadata": {},
   "outputs": [],
   "source": [
    "# sequence of indices\n",
    "sites_flatten = full_sites.values.flatten()\n",
    "\n",
    "# and the matrix we are looking for \n",
    "# (make sure you understand which of the `csr_matrix` constructors is used here)\n",
    "# a further toy example will help you with it\n",
    "full_sites_sparse = csr_matrix(\n",
    "    ([1] * sites_flatten.shape[0],\n",
    "    sites_flatten,\n",
    "    range(0, sites_flatten.shape[0]  + 10, 10))\n",
    ")[:, 1:]"
   ]
  },
  {
   "cell_type": "code",
   "execution_count": 7,
   "metadata": {},
   "outputs": [],
   "source": [
    "def get_auc_lr_valid(X, y, C=1.0, seed=17, ratio = 0.9):\n",
    "    # Split the data into the training and validation sets\n",
    "    idx = int(round(X.shape[0] * ratio))\n",
    "    # Classifier training\n",
    "    lr = LogisticRegression(C=C, random_state=seed, solver='liblinear').fit(X[:idx, :], y[:idx])\n",
    "    # Prediction for validation set\n",
    "    y_pred = lr.predict_proba(X[idx:, :])[:, 1]\n",
    "    # Calculate the quality\n",
    "    score = roc_auc_score(y[idx:], y_pred)\n",
    "    \n",
    "    return score"
   ]
  },
  {
   "cell_type": "code",
   "execution_count": 8,
   "metadata": {},
   "outputs": [
    {
     "name": "stdout",
     "output_type": "stream",
     "text": [
      "0.919524105836\n",
      "CPU times: user 25.6 s, sys: 52.9 s, total: 1min 18s\n",
      "Wall time: 10.3 s\n"
     ]
    }
   ],
   "source": [
    "%%time\n",
    "# Select the training set from the united dataframe (where we have the answers)\n",
    "X_train = full_sites_sparse[:idx_split, :]\n",
    "\n",
    "# Calculate metric on the validation set\n",
    "print(get_auc_lr_valid(X_train, y_train))"
   ]
  },
  {
   "cell_type": "code",
   "execution_count": 9,
   "metadata": {},
   "outputs": [],
   "source": [
    "# Function for writing predictions to a file\n",
    "def write_to_submission_file(predicted_labels, out_file,\n",
    "                             target='target', index_label=\"session_id\"):\n",
    "    predicted_df = pd.DataFrame(predicted_labels,\n",
    "                                index = np.arange(1, predicted_labels.shape[0] + 1),\n",
    "                                columns=[target])\n",
    "    predicted_df.to_csv(out_file, index_label=index_label)"
   ]
  },
  {
   "cell_type": "code",
   "execution_count": 10,
   "metadata": {},
   "outputs": [],
   "source": [
    "# Train the model on the whole training data set\n",
    "# Use random_state=17 for repeatability\n",
    "# Parameter C=1 by default, but here we set it explicitly\n",
    "lr = LogisticRegression(C=1.0, random_state=17, solver='liblinear').fit(X_train, y_train)\n",
    "\n",
    "# Make a prediction for test data set\n",
    "X_test = full_sites_sparse[idx_split:,:]\n",
    "y_test = lr.predict_proba(X_test)[:, 1]\n",
    "\n",
    "# Write it to the file which could be submitted\n",
    "write_to_submission_file(y_test, 'baseline_1.csv')"
   ]
  },
  {
   "cell_type": "markdown",
   "metadata": {},
   "source": [
    "# 2.Feature Engineering"
   ]
  },
  {
   "cell_type": "code",
   "execution_count": 11,
   "metadata": {},
   "outputs": [],
   "source": [
    "SESSION_ID = 'session_id'\n",
    "TARGET = 'target'"
   ]
  },
  {
   "cell_type": "code",
   "execution_count": 54,
   "metadata": {},
   "outputs": [],
   "source": [
    "YEAR = 'year'\n",
    "DAY_OF_THE_WEEK = 'day_of_the_week'\n",
    "WEEK = 'week'\n",
    "HOUR = 'hour'\n",
    "FINISH_HOUR = 'finish_hour'\n",
    "MORNING = 'morning'\n",
    "START_MONTH = 'start_month'\n",
    "MONTH = 'month'\n",
    "UNIQUE_SITES_IN_SESSION = 'unique_sites_in_session'\n",
    "SLEEPING_TIME = 'sleeping_time'\n",
    "\n",
    "ALICE_HOUR = 'alice_hour'\n",
    "ALICE_HOUR_100 = 'alice_hour_100' # more than 100\n",
    "ALICE_HOUR_200 = 'alice_hour_200' # more than 100\n",
    "WORKING_WEEKDAY = 'working_weekday' # increment by 1 because of 0 - Monday?\n",
    "ALICE_WEEKDAY = 'alice_weekday'\n",
    "ALICE_WEEKDAY_200 = 'alice_weekday_200'"
   ]
  },
  {
   "cell_type": "code",
   "execution_count": 13,
   "metadata": {},
   "outputs": [
    {
     "data": {
      "text/plain": [
       "((336358, 20), (253561, 4))"
      ]
     },
     "execution_count": 13,
     "metadata": {},
     "output_type": "execute_result"
    }
   ],
   "source": [
    "full_df.shape, time_df.shape"
   ]
  },
  {
   "cell_type": "markdown",
   "metadata": {},
   "source": [
    "## Simple features"
   ]
  },
  {
   "cell_type": "code",
   "execution_count": 55,
   "metadata": {},
   "outputs": [],
   "source": [
    "# Dataframe for new features\n",
    "full_new_feat = pd.DataFrame(index=full_df.index)\n",
    "\n",
    "full_new_feat[START_MONTH] = full_df['time1'].apply(\n",
    "    lambda ts: \n",
    "        (ts.year) * 100 + ts.month\n",
    ").astype('float64')\n",
    "\n",
    "full_new_feat[YEAR] = full_df['time1'].apply(\n",
    "    lambda ts: ts.year\n",
    ").astype('int16')\n",
    "\n",
    "full_new_feat[DAY_OF_THE_WEEK] = full_df['time1'].apply(\n",
    "    lambda ts: ts.dayofweek\n",
    ").astype('int8')\n",
    "\n",
    "full_new_feat[WEEK] = full_df['time1'].apply(\n",
    "    lambda ts: ts.week\n",
    ").astype('int8')\n",
    "\n",
    "full_new_feat[HOUR] = full_df['time1'].apply(\n",
    "    lambda ts: ts.hour\n",
    ").astype('int8')\n",
    "\n",
    "full_new_feat[MORNING] = full_df['time1'].apply(\n",
    "    lambda ts: ts.hour >= 0 and ts.hour <= 11\n",
    ").astype('int8')\n",
    "\n",
    "full_new_feat[MONTH] = full_df['time1'].apply(\n",
    "    lambda ts: ts.month\n",
    ").astype('int8')\n",
    "\n",
    "full_new_feat[UNIQUE_SITES_IN_SESSION] = (\n",
    "    train_df[sites].replace({0:  None}).nunique(axis=1, dropna=True))\n",
    "\n",
    "full_new_feat[SLEEPING_TIME] =  full_df['time1'].apply(\n",
    "    lambda ts: \n",
    "        ts.hour >=0 and ts.hour <= 7\n",
    ").astype('int8')"
   ]
  },
  {
   "cell_type": "code",
   "execution_count": 56,
   "metadata": {},
   "outputs": [
    {
     "data": {
      "text/plain": [
       "<matplotlib.axes._subplots.AxesSubplot at 0x7f9ca4877710>"
      ]
     },
     "execution_count": 56,
     "metadata": {},
     "output_type": "execute_result"
    },
    {
     "data": {
      "image/png": "[encoded data removed]",
      "text/plain": [
       "<Figure size 432x288 with 1 Axes>"
      ]
     },
     "metadata": {
      "needs_background": "light"
     },
     "output_type": "display_data"
    }
   ],
   "source": [
    "exam_df = (\n",
    "    full_new_feat[HOUR]\n",
    "    .to_frame()\n",
    "    .join(time_df[TARGET].to_frame(), on='session_id')\n",
    ")\n",
    "\n",
    "grouped_by_hour = exam_df[exam_df[TARGET] == 1].groupby(HOUR).size()\n",
    "grouped_by_hour_100 = grouped_by_hour[grouped_by_hour > 100]\n",
    "grouped_by_hour_200 = grouped_by_hour_100[grouped_by_hour_100 > 200]\n",
    "\n",
    "ALICE_HOURS_LIST = grouped_by_hour.index\n",
    "\n",
    "grouped_by_hour.plot(kind='bar')"
   ]
  },
  {
   "cell_type": "code",
   "execution_count": 57,
   "metadata": {},
   "outputs": [
    {
     "data": {
      "text/plain": [
       "<matplotlib.axes._subplots.AxesSubplot at 0x7f9ca46eea20>"
      ]
     },
     "execution_count": 57,
     "metadata": {},
     "output_type": "execute_result"
    },
    {
     "data": {
      "image/png": "[encoded data removed]",
      "text/plain": [
       "<Figure size 432x288 with 1 Axes>"
      ]
     },
     "metadata": {
      "needs_background": "light"
     },
     "output_type": "display_data"
    }
   ],
   "source": [
    "exam_df = (\n",
    "    full_new_feat[DAY_OF_THE_WEEK]\n",
    "    .to_frame()\n",
    "    .join(time_df[TARGET].to_frame(), on='session_id')\n",
    ")\n",
    "\n",
    "grouped_by_weekday = exam_df[\n",
    "    exam_df[TARGET] == 1].groupby(DAY_OF_THE_WEEK).size()\n",
    "working_days = [range(0, 6)]\n",
    "alice_weekday_200 = grouped_by_weekday[grouped_by_weekday > 200]\n",
    "\n",
    "ALICE_WEEKDAYS_LIST = grouped_by_weekday.index\n",
    "\n",
    "grouped_by_weekday.plot(kind='bar')"
   ]
  },
  {
   "cell_type": "code",
   "execution_count": 58,
   "metadata": {},
   "outputs": [],
   "source": [
    "full_new_feat[ALICE_HOUR] = full_new_feat[HOUR].apply(\n",
    "    lambda ts:\n",
    "        ts in grouped_by_hour\n",
    ").astype('int8')\n",
    "\n",
    "full_new_feat[ALICE_HOUR_100] = full_new_feat[HOUR].apply(\n",
    "    lambda ts:\n",
    "        ts in grouped_by_hour_100\n",
    ").astype('int8')\n",
    "\n",
    "full_new_feat[ALICE_HOUR_200] = full_new_feat[HOUR].apply(\n",
    "    lambda ts:\n",
    "        ts in grouped_by_hour_200\n",
    ").astype('int8')\n",
    "\n",
    "full_new_feat[ALICE_WEEKDAY] = full_new_feat[DAY_OF_THE_WEEK].apply(\n",
    "    lambda ts:\n",
    "        ts in grouped_by_weekday\n",
    ").astype('int8')\n",
    "\n",
    "full_new_feat[ALICE_WEEKDAY_200] = full_new_feat[DAY_OF_THE_WEEK].apply(\n",
    "    lambda ts:\n",
    "        ts in alice_weekday_200\n",
    ").astype('int8')\n",
    "\n",
    "full_new_feat[WORKING_WEEKDAY] = full_new_feat[DAY_OF_THE_WEEK].apply(\n",
    "    lambda ts:\n",
    "        ts in working_days\n",
    ").astype('int8')"
   ]
  },
  {
   "cell_type": "code",
   "execution_count": 59,
   "metadata": {},
   "outputs": [
    {
     "data": {
      "text/html": [
       "<div>\n",
       "<style scoped>\n",
       "    .dataframe tbody tr th:only-of-type {\n",
       "        vertical-align: middle;\n",
       "    }\n",
       "\n",
       "    .dataframe tbody tr th {\n",
       "        vertical-align: top;\n",
       "    }\n",
       "\n",
       "    .dataframe thead th {\n",
       "        text-align: right;\n",
       "    }\n",
       "</style>\n",
       "<table border=\"1\" class=\"dataframe\">\n",
       "  <thead>\n",
       "    <tr style=\"text-align: right;\">\n",
       "      <th>session_id</th>\n",
       "      <th>21669</th>\n",
       "      <th>54843</th>\n",
       "      <th>77292</th>\n",
       "      <th>114021</th>\n",
       "      <th>146670</th>\n",
       "    </tr>\n",
       "  </thead>\n",
       "  <tbody>\n",
       "    <tr>\n",
       "      <th>start_month</th>\n",
       "      <td>201301.0</td>\n",
       "      <td>201301.0</td>\n",
       "      <td>201301.0</td>\n",
       "      <td>201301.0</td>\n",
       "      <td>201301.0</td>\n",
       "    </tr>\n",
       "    <tr>\n",
       "      <th>year</th>\n",
       "      <td>2013.0</td>\n",
       "      <td>2013.0</td>\n",
       "      <td>2013.0</td>\n",
       "      <td>2013.0</td>\n",
       "      <td>2013.0</td>\n",
       "    </tr>\n",
       "    <tr>\n",
       "      <th>day_of_the_week</th>\n",
       "      <td>5.0</td>\n",
       "      <td>5.0</td>\n",
       "      <td>5.0</td>\n",
       "      <td>5.0</td>\n",
       "      <td>5.0</td>\n",
       "    </tr>\n",
       "    <tr>\n",
       "      <th>week</th>\n",
       "      <td>2.0</td>\n",
       "      <td>2.0</td>\n",
       "      <td>2.0</td>\n",
       "      <td>2.0</td>\n",
       "      <td>2.0</td>\n",
       "    </tr>\n",
       "    <tr>\n",
       "      <th>hour</th>\n",
       "      <td>8.0</td>\n",
       "      <td>8.0</td>\n",
       "      <td>8.0</td>\n",
       "      <td>8.0</td>\n",
       "      <td>8.0</td>\n",
       "    </tr>\n",
       "    <tr>\n",
       "      <th>morning</th>\n",
       "      <td>1.0</td>\n",
       "      <td>1.0</td>\n",
       "      <td>1.0</td>\n",
       "      <td>1.0</td>\n",
       "      <td>1.0</td>\n",
       "    </tr>\n",
       "    <tr>\n",
       "      <th>month</th>\n",
       "      <td>1.0</td>\n",
       "      <td>1.0</td>\n",
       "      <td>1.0</td>\n",
       "      <td>1.0</td>\n",
       "      <td>1.0</td>\n",
       "    </tr>\n",
       "    <tr>\n",
       "      <th>unique_sites_in_session</th>\n",
       "      <td>2.0</td>\n",
       "      <td>2.0</td>\n",
       "      <td>6.0</td>\n",
       "      <td>5.0</td>\n",
       "      <td>6.0</td>\n",
       "    </tr>\n",
       "    <tr>\n",
       "      <th>sleeping_time</th>\n",
       "      <td>0.0</td>\n",
       "      <td>0.0</td>\n",
       "      <td>0.0</td>\n",
       "      <td>0.0</td>\n",
       "      <td>0.0</td>\n",
       "    </tr>\n",
       "    <tr>\n",
       "      <th>alice_hour</th>\n",
       "      <td>1.0</td>\n",
       "      <td>1.0</td>\n",
       "      <td>1.0</td>\n",
       "      <td>1.0</td>\n",
       "      <td>1.0</td>\n",
       "    </tr>\n",
       "    <tr>\n",
       "      <th>alice_hour_100</th>\n",
       "      <td>0.0</td>\n",
       "      <td>0.0</td>\n",
       "      <td>0.0</td>\n",
       "      <td>0.0</td>\n",
       "      <td>0.0</td>\n",
       "    </tr>\n",
       "    <tr>\n",
       "      <th>alice_hour_200</th>\n",
       "      <td>0.0</td>\n",
       "      <td>0.0</td>\n",
       "      <td>0.0</td>\n",
       "      <td>0.0</td>\n",
       "      <td>0.0</td>\n",
       "    </tr>\n",
       "    <tr>\n",
       "      <th>alice_weekday</th>\n",
       "      <td>1.0</td>\n",
       "      <td>1.0</td>\n",
       "      <td>1.0</td>\n",
       "      <td>1.0</td>\n",
       "      <td>1.0</td>\n",
       "    </tr>\n",
       "    <tr>\n",
       "      <th>alice_weekday_200</th>\n",
       "      <td>0.0</td>\n",
       "      <td>0.0</td>\n",
       "      <td>0.0</td>\n",
       "      <td>0.0</td>\n",
       "      <td>0.0</td>\n",
       "    </tr>\n",
       "    <tr>\n",
       "      <th>working_weekday</th>\n",
       "      <td>0.0</td>\n",
       "      <td>0.0</td>\n",
       "      <td>0.0</td>\n",
       "      <td>0.0</td>\n",
       "      <td>0.0</td>\n",
       "    </tr>\n",
       "  </tbody>\n",
       "</table>\n",
       "</div>"
      ],
      "text/plain": [
       "session_id                 21669     54843     77292     114021    146670\n",
       "start_month              201301.0  201301.0  201301.0  201301.0  201301.0\n",
       "year                       2013.0    2013.0    2013.0    2013.0    2013.0\n",
       "day_of_the_week               5.0       5.0       5.0       5.0       5.0\n",
       "week                          2.0       2.0       2.0       2.0       2.0\n",
       "hour                          8.0       8.0       8.0       8.0       8.0\n",
       "morning                       1.0       1.0       1.0       1.0       1.0\n",
       "month                         1.0       1.0       1.0       1.0       1.0\n",
       "unique_sites_in_session       2.0       2.0       6.0       5.0       6.0\n",
       "sleeping_time                 0.0       0.0       0.0       0.0       0.0\n",
       "alice_hour                    1.0       1.0       1.0       1.0       1.0\n",
       "alice_hour_100                0.0       0.0       0.0       0.0       0.0\n",
       "alice_hour_200                0.0       0.0       0.0       0.0       0.0\n",
       "alice_weekday                 1.0       1.0       1.0       1.0       1.0\n",
       "alice_weekday_200             0.0       0.0       0.0       0.0       0.0\n",
       "working_weekday               0.0       0.0       0.0       0.0       0.0"
      ]
     },
     "execution_count": 59,
     "metadata": {},
     "output_type": "execute_result"
    }
   ],
   "source": [
    "full_new_feat.head().T"
   ]
  },
  {
   "cell_type": "code",
   "execution_count": 60,
   "metadata": {},
   "outputs": [
    {
     "data": {
      "text/plain": [
       "((336358, 15), (253561,))"
      ]
     },
     "execution_count": 60,
     "metadata": {},
     "output_type": "execute_result"
    }
   ],
   "source": [
    "full_new_feat.shape, y_train.shape"
   ]
  },
  {
   "cell_type": "code",
   "execution_count": 61,
   "metadata": {},
   "outputs": [],
   "source": [
    "full_new_feat[TARGET] = y_train"
   ]
  },
  {
   "cell_type": "code",
   "execution_count": 62,
   "metadata": {},
   "outputs": [
    {
     "data": {
      "text/plain": [
       "<matplotlib.axes._subplots.AxesSubplot at 0x7f9ca45c29e8>"
      ]
     },
     "execution_count": 62,
     "metadata": {},
     "output_type": "execute_result"
    },
    {
     "data": {
      "image/png": "[encoded data removed]",
      "text/plain": [
       "<Figure size 432x288 with 1 Axes>"
      ]
     },
     "metadata": {
      "needs_background": "light"
     },
     "output_type": "display_data"
    }
   ],
   "source": [
    "full_new_feat[\n",
    "    full_new_feat[TARGET] == 1\n",
    "].groupby(START_MONTH).size().plot(kind='bar')"
   ]
  },
  {
   "cell_type": "code",
   "execution_count": 65,
   "metadata": {},
   "outputs": [
    {
     "data": {
      "application/vnd.jupyter.widget-view+json": {
       "model_id": "7b8d458114bb44ef82f55a239aa22acc",
       "version_major": 2,
       "version_minor": 0
      },
      "text/plain": [
       "HBox(children=(IntProgress(value=0, max=6), HTML(value='')))"
      ]
     },
     "metadata": {},
     "output_type": "display_data"
    },
    {
     "name": "stdout",
     "output_type": "stream",
     "text": [
      "Score: 0.9565883156046355, Features: ['hour']\n",
      "Score: 0.947403479438092, Features: ['morning']\n",
      "Score: 0.9579249120811173, Features: ['hour', 'start_month']\n",
      "Score: 0.957924610161877, Features: ['start_month', 'hour']\n",
      "Score: 0.9487757023849204, Features: ['morning', 'start_month']\n",
      "Score: 0.9591528176311174, Features: ['start_month', 'morning', 'hour']\n",
      "\n"
     ]
    }
   ],
   "source": [
    "import warnings\n",
    "warnings.filterwarnings('ignore')\n",
    "\n",
    "for feature_set in tqdm([\n",
    "    [HOUR],\n",
    "    [MORNING],\n",
    "    [HOUR, START_MONTH],\n",
    "    [START_MONTH, HOUR],\n",
    "    [MORNING, START_MONTH],\n",
    "    [START_MONTH, MORNING, HOUR]\n",
    "]):\n",
    "    tmp = StandardScaler().fit_transform(full_new_feat[feature_set])\n",
    "    X_train = csr_matrix(hstack([full_sites_sparse[:idx_split,:], tmp[:idx_split,:]]))\n",
    "\n",
    "    # Compute metric on the validation set\n",
    "    score = get_auc_lr_valid(X_train, y_train)\n",
    "    \n",
    "    print(f'Score: {score}, Features: {feature_set}')"
   ]
  },
  {
   "cell_type": "code",
   "execution_count": 66,
   "metadata": {},
   "outputs": [
    {
     "data": {
      "application/vnd.jupyter.widget-view+json": {
       "model_id": "69458a22579f4bbb8856b83043070f21",
       "version_major": 2,
       "version_minor": 0
      },
      "text/plain": [
       "HBox(children=(IntProgress(value=0, max=16), HTML(value='')))"
      ]
     },
     "metadata": {},
     "output_type": "display_data"
    },
    {
     "name": "stdout",
     "output_type": "stream",
     "text": [
      "\n"
     ]
    }
   ],
   "source": [
    "features = list(full_new_feat.columns)\n",
    "\n",
    "results = []\n",
    "\n",
    "for feature_set in tqdm(features):\n",
    "    tmp = StandardScaler().fit_transform(full_new_feat[[feature_set]])\n",
    "    X_train = csr_matrix(hstack([full_sites_sparse[:idx_split,:], tmp[:idx_split,:]]))\n",
    "\n",
    "    # Compute metric on the validation set\n",
    "    score = get_auc_lr_valid(X_train, y_train)\n",
    "    \n",
    "    results.append((score, feature_set))\n",
    "    \n",
    "#     print(f'Score: {score}, Features: {feature_set}')"
   ]
  },
  {
   "cell_type": "code",
   "execution_count": 67,
   "metadata": {},
   "outputs": [
    {
     "data": {
      "text/plain": [
       "[(1.0, 'target'),\n",
       " (0.95658831560463553, 'hour'),\n",
       " (0.95349462462984702, 'alice_hour_200'),\n",
       " (0.947403479438092, 'morning'),\n",
       " (0.93679547145293207, 'alice_hour_100'),\n",
       " (0.93656012540517564, 'day_of_the_week'),\n",
       " (0.93396226130264881, 'alice_weekday_200'),\n",
       " (0.91969861515682894, 'start_month'),\n",
       " (0.91961936135626954, 'year'),\n",
       " (0.91959830248926377, 'sleeping_time'),\n",
       " (0.91958811271490615, 'alice_hour'),\n",
       " (0.91952440775521849, 'alice_weekday'),\n",
       " (0.91952440775521849, 'working_weekday'),\n",
       " (0.91896872539358188, 'month'),\n",
       " (0.91847282304151023, 'week'),\n",
       " (0.91617755749750018, 'unique_sites_in_session')]"
      ]
     },
     "execution_count": 67,
     "metadata": {},
     "output_type": "execute_result"
    }
   ],
   "source": [
    "sorted_res = results.sort(key=lambda result: result[0], reverse=True)\n",
    "\n",
    "results"
   ]
  },
  {
   "cell_type": "code",
   "execution_count": 73,
   "metadata": {},
   "outputs": [
    {
     "data": {
      "application/vnd.jupyter.widget-view+json": {
       "model_id": "2d5f83aa523f4e3d9e6382f5546f9a0b",
       "version_major": 2,
       "version_minor": 0
      },
      "text/plain": [
       "HBox(children=(IntProgress(value=0, max=15), HTML(value='')))"
      ]
     },
     "metadata": {},
     "output_type": "display_data"
    },
    {
     "name": "stdout",
     "output_type": "stream",
     "text": [
      "\n"
     ]
    }
   ],
   "source": [
    "FEATURE_SET = [\n",
    "    HOUR, \n",
    "    ALICE_HOUR_200, \n",
    "    MORNING, \n",
    "    DAY_OF_THE_WEEK, \n",
    "    START_MONTH, \n",
    "    SLEEPING_TIME\n",
    "]\n",
    "\n",
    "tmp = StandardScaler().fit_transform(full_new_feat[FEATURE_SET])\n",
    "X_train = csr_matrix(hstack([full_sites_sparse[:idx_split,:], tmp[:idx_split,:]]))\n",
    "\n",
    "score_C_1 = get_auc_lr_valid(X_train, y_train)\n",
    "\n",
    "# Compute metric on the validation set\n",
    "Cs = np.logspace(-2, 0, 15)\n",
    "scores = []\n",
    "for C in tqdm(Cs):\n",
    "    scores.append(get_auc_lr_valid(X_train, y_train, C=C))"
   ]
  },
  {
   "cell_type": "code",
   "execution_count": 75,
   "metadata": {},
   "outputs": [
    {
     "data": {
      "image/png": "[encoded data removed]",
      "text/plain": [
       "<Figure size 432x288 with 1 Axes>"
      ]
     },
     "metadata": {
      "needs_background": "light"
     },
     "output_type": "display_data"
    }
   ],
   "source": [
    "plt.plot(Cs, scores, 'ro-')\n",
    "plt.xscale('log')\n",
    "plt.xlabel('C')\n",
    "plt.ylabel('AUC-ROC')\n",
    "plt.title('Regularization Parameter Tuning')\n",
    "# horizontal line -- model quality with default C value\n",
    "plt.axhline(y=score_C_1, linewidth=.5, color='b', linestyle='dashed') \n",
    "\n",
    "MINIMAL_THRESHOLD = 0.96\n",
    "\n",
    "axes = plt.gca()\n",
    "axes.set_ylim([MINIMAL_THRESHOLD, 1])\n",
    "\n",
    "list_of_results = [\n",
    "    (C, score) \n",
    "    for C, score in list(zip(Cs, scores)) \n",
    "    if score >= MINIMAL_THRESHOLD\n",
    "]\n",
    "\n",
    "for C, score in list_of_results: \n",
    "    plt.text(C, score, str(C)[:4])\n",
    "\n",
    "plt.show()"
   ]
  },
  {
   "cell_type": "code",
   "execution_count": 87,
   "metadata": {},
   "outputs": [
    {
     "data": {
      "text/plain": [
       "0.13894954943731375"
      ]
     },
     "execution_count": 87,
     "metadata": {},
     "output_type": "execute_result"
    }
   ],
   "source": [
    "list_of_results.sort(\n",
    "    key=lambda score_pair: score_pair[1], \n",
    "    reverse=True)\n",
    "\n",
    "max_C = list_of_results[0][0]\n",
    "\n",
    "max_C"
   ]
  },
  {
   "cell_type": "code",
   "execution_count": 89,
   "metadata": {},
   "outputs": [],
   "source": [
    "# Prepare the training and test data\n",
    "C=max_C\n",
    "\n",
    "tmp_scaled = StandardScaler().fit_transform(full_new_feat[FEATURE_SET])\n",
    "X_train = csr_matrix(hstack([full_sites_sparse[:idx_split,:], \n",
    "                             tmp_scaled[:idx_split,:]]))\n",
    "X_test = csr_matrix(hstack([full_sites_sparse[idx_split:,:], \n",
    "                            tmp_scaled[idx_split:,:]]))\n",
    "\n",
    "# Train the model on the whole training data set using optimal regularization parameter\n",
    "lr = LogisticRegression(C=C, random_state=17, solver='liblinear').fit(X_train, y_train)\n",
    "\n",
    "# Make a prediction for the test set\n",
    "y_test = lr.predict_proba(X_test)[:, 1]\n",
    "\n",
    "\n",
    "# Write it to the submission file\n",
    "write_to_submission_file(y_test, 'baseline_2.csv')"
   ]
  }
 ],
 "metadata": {
  "kernelspec": {
   "display_name": "Python 3",
   "language": "python",
   "name": "python3"
  },
  "language_info": {
   "codemirror_mode": {
    "name": "ipython",
    "version": 3
   },
   "file_extension": ".py",
   "mimetype": "text/x-python",
   "name": "python",
   "nbconvert_exporter": "python",
   "pygments_lexer": "ipython3",
   "version": "3.6.7"
  }
 },
 "nbformat": 4,
 "nbformat_minor": 2
}
