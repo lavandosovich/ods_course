{
 "cells": [
  {
   "cell_type": "markdown",
   "metadata": {},
   "source": [
    "<center>\n",
    "<img src=\"../../img/ods_stickers.jpg\" />\n",
    "    \n",
    "## [mlcourse.ai](https://mlcourse.ai) – Open Machine Learning Course \n",
    "Author: [Yury Kashnitskiy](https://yorko.github.io) (@yorko). Edited by Sergey Kolchenko (@KolchenkoSergey). This material is subject to the terms and conditions of the [Creative Commons CC BY-NC-SA 4.0](https://creativecommons.org/licenses/by-nc-sa/4.0/) license. Free use is permitted for any non-commercial purpose."
   ]
  },
  {
   "cell_type": "markdown",
   "metadata": {},
   "source": [
    "# <center> Assignment #2. Spring 2019\n",
    "## <center>  Competition 2. Predicting Medium articles popularity with Ridge Regression <br>(beating baselines in the \"Medium\" competition)\n",
    "    \n",
    "<img src='../../img/medium_claps.jpg' width=40% />\n",
    "\n",
    "\n",
    "In this [competition](https://www.kaggle.com/c/how-good-is-your-medium-article) we are predicting Medium article popularity based on its features like content, title, author, tags, reading time etc. \n",
    "\n",
    "Prior to working on the assignment, you'd better check out the corresponding course material:\n",
    " 1. [Classification, Decision Trees and k Nearest Neighbors](https://nbviewer.jupyter.org/github/Yorko/mlcourse_open/blob/master/jupyter_english/topic03_decision_trees_kNN/topic3_decision_trees_kNN.ipynb?flush_cache=true), the same as an interactive web-based [Kaggle Kernel](https://www.kaggle.com/kashnitsky/topic-3-decision-trees-and-knn) (basics of machine learning are covered here)\n",
    " 2. Linear classification and regression in 5 parts: \n",
    "    - [ordinary least squares](https://www.kaggle.com/kashnitsky/topic-4-linear-models-part-1-ols)\n",
    "    - [linear classification](https://www.kaggle.com/kashnitsky/topic-4-linear-models-part-2-classification)\n",
    "    - [regularization](https://www.kaggle.com/kashnitsky/topic-4-linear-models-part-3-regularization)\n",
    "    - [logistic regression: pros and cons](https://www.kaggle.com/kashnitsky/topic-4-linear-models-part-4-more-of-logit)\n",
    "    - [validation](https://www.kaggle.com/kashnitsky/topic-4-linear-models-part-5-validation)\n",
    " 3. You can also practice with demo assignments, which are simpler and already shared with solutions: \n",
    "    - \" Sarcasm detection with logistic regression\": [assignment](https://www.kaggle.com/kashnitsky/a4-demo-sarcasm-detection-with-logit) + [solution](https://www.kaggle.com/kashnitsky/a4-demo-sarcasm-detection-with-logit-solution)\n",
    "    - \"Linear regression as optimization\": [assignment](https://www.kaggle.com/kashnitsky/a4-demo-linear-regression-as-optimization/edit) (solution cannot be officially shared)\n",
    "    - \"Exploring OLS, Lasso and Random Forest in a regression task\": [assignment](https://www.kaggle.com/kashnitsky/a6-demo-linear-models-and-rf-for-regression) + [solution](https://www.kaggle.com/kashnitsky/a6-demo-regression-solution)\n",
    " 4. Baseline with Ridge regression and \"bag of words\" for article content, [Kernel](https://www.kaggle.com/kashnitsky/ridge-countvectorizer-baseline)\n",
    " 5. Other [Kernels](https://www.kaggle.com/c/how-good-is-your-medium-article/kernels?sortBy=voteCount&group=everyone&pageSize=20&competitionId=8673) in this competition. You can share yours as well, but not high-performing ones (Public LB MAE shall be > 1.5). Please don't spoil the competitive spirit.  \n",
    " 6. If that's still not enough, watch two videos (Linear regression and regularization) from here [mlcourse.ai/video](https://mlcourse.ai/video), the second one on LTV prediction is smth that you won't typically find in a MOOC - real problem, real metrics, real data.\n",
    "\n",
    "**Your task:**\n",
    " 1. \"Freeride\". Come up with good features to beat the baselines \"A2 baseline (10 credits)\" and \"A2 strong baseline (20 credits)\". As names suggest, you'll get 10 more credits for beating the first one, and 10 more (20 in total) for beating the second one. You need to name your [team](https://www.kaggle.com/c/catch-me-if-you-can-intruder-detection-through-webpage-session-tracking2/team) (out of 1 person) in full accordance with the [course rating](https://docs.google.com/spreadsheets/d/1LAy1eK8vIONzIWgcCEaVmhKPSj579zK5lrECf_tQT60/edit?usp=sharing) (for newcomers: you need to name your team with your real full name). You can think of it as a part of the assignment.\n",
    " 2. If you've beaten \"A2 baseline (10 credits)\" or performed better, you need to upload your solution as described in [course roadmap](https://mlcourse.ai/roadmap) (\"Kaggle Inclass Competition Medium\"). For all baselines that you see on Public Leaderboard, it's OK to beat them on Public LB as well. But 10 winners will be defined according to the private LB, which will be revealed by @yorko on March 11. \n",
    " \n",
    " ### <center> Deadline for A2: 2019 March 10, 20:59 GMT (London time)\n",
    " \n",
    "### How to get help\n",
    "In [ODS Slack](https://opendatascience.slack.com) (if you still don't have access, fill in the [form](https://docs.google.com/forms/d/1BMqcUc-hIQXa0HB_Q2Oa8vWBtGHXk8a6xo5gPnMKYKA/edit) mentioned on the mlcourse.ai main page), we have a channel **#mlcourse_ai_news** with announcements from the course team.\n",
    "You can discuss the course content freely in the **#mlcourse_ai** channel (we still have a huge Russian-speaking group, they have a separate channel **#mlcourse_ai_rus**).\n",
    "\n",
    "Please stick this special threads for your questions:\n",
    " - [#a2_medium](https://opendatascience.slack.com/archives/C91N8TL83/p1549882568052400) \n",
    " \n",
    "Help each other without sharing actual code. Our TA Artem @datamove is there to help (only in the mentioned thread, do not write to him directly)."
   ]
  },
  {
   "cell_type": "code",
   "execution_count": 1,
   "metadata": {},
   "outputs": [],
   "source": [
    "import os\n",
    "import json\n",
    "from tqdm import tqdm_notebook\n",
    "import numpy as np\n",
    "import pandas as pd\n",
    "from sklearn.feature_extraction.text import TfidfVectorizer\n",
    "from sklearn.metrics import mean_absolute_error\n",
    "from sklearn.linear_model import Ridge\n",
    "from sklearn.preprocessing import OneHotEncoder\n",
    "from scipy.sparse import csr_matrix, hstack\n",
    "\n",
    "from pprint import pprint\n",
    "from funcy import rcompose"
   ]
  },
  {
   "cell_type": "markdown",
   "metadata": {},
   "source": [
    "The following code will help to throw away all HTML tags from an article content."
   ]
  },
  {
   "cell_type": "code",
   "execution_count": 2,
   "metadata": {},
   "outputs": [],
   "source": [
    "from html.parser import HTMLParser\n",
    "\n",
    "class MLStripper(HTMLParser):\n",
    "    def __init__(self):\n",
    "        self.reset()\n",
    "        self.strict = False\n",
    "        self.convert_charrefs= True\n",
    "        self.fed = []\n",
    "    def handle_data(self, d):\n",
    "        self.fed.append(d)\n",
    "    def get_data(self):\n",
    "        return ''.join(self.fed)\n",
    "\n",
    "def strip_tags(html):\n",
    "    s = MLStripper()\n",
    "    s.feed(html)\n",
    "    return s.get_data()"
   ]
  },
  {
   "cell_type": "markdown",
   "metadata": {},
   "source": [
    "Supplementary function to read a JSON line without crashing on escape characters."
   ]
  },
  {
   "cell_type": "code",
   "execution_count": 3,
   "metadata": {},
   "outputs": [],
   "source": [
    "def read_json_line(line=None):\n",
    "    result = None\n",
    "    try:        \n",
    "        result = json.loads(line)\n",
    "    except Exception as e:      \n",
    "        # Find the offending character index:\n",
    "        idx_to_replace = int(str(e).split(' ')[-1].replace(')',''))      \n",
    "        # Remove the offending character:\n",
    "        new_line = list(line)\n",
    "        new_line[idx_to_replace] = ' '\n",
    "        new_line = ''.join(new_line)     \n",
    "        return read_json_line(line=new_line)\n",
    "    return result"
   ]
  },
  {
   "cell_type": "markdown",
   "metadata": {},
   "source": [
    "Extract features `content`, `published`, `title` and `author`, write them to separate files for train and test sets."
   ]
  },
  {
   "cell_type": "code",
   "execution_count": 4,
   "metadata": {},
   "outputs": [],
   "source": [
    "CONTENT = 'content'\n",
    "PUBLISHED = 'published'\n",
    "TITLE = 'title'\n",
    "AUTHOR = 'author'"
   ]
  },
  {
   "cell_type": "code",
   "execution_count": 5,
   "metadata": {},
   "outputs": [],
   "source": [
    "def extract_features_and_write(path_to_data,\n",
    "                               inp_filename, is_train=True):\n",
    "    \n",
    "    features = [CONTENT, PUBLISHED, TITLE, AUTHOR]\n",
    "    prefix = 'train' if is_train else 'test'\n",
    "    \n",
    "    name_former = lambda feat: os.path.join(path_to_data, f'{prefix}_{feat}.txt')\n",
    "    \n",
    "    feature_files = [\n",
    "        open(name_former(feat),'w' , encoding='utf-8')\n",
    "        for feat in features\n",
    "    ]\n",
    "    \n",
    "    with open(os.path.join(path_to_data, inp_filename), \n",
    "              encoding='utf-8') as inp_json_file:\n",
    "\n",
    "        for line in tqdm_notebook(inp_json_file):\n",
    "            json_data = read_json_line(line)\n",
    "\n",
    "            # need to remove \\n & \\r symbol\n",
    "            with open(f'{prefix}_{CONTENT}.txt', 'a') as feature_file:\n",
    "                feature_file.write(strip_tags(json_data[CONTENT]).replace(\"\\n\", '').replace(\"\\r\", '') + \"\\n\")\n",
    "            \n",
    "            with open(f'{prefix}_{AUTHOR}.txt', 'a') as feature_file:\n",
    "                feature_file.write(json_data[AUTHOR]['url'].split('.com/@')[-1] + \"\\n\")\n",
    "            \n",
    "            with open(f'{prefix}_{PUBLISHED}.txt', 'a') as feature_file:\n",
    "                feature_file.write(json_data[PUBLISHED]['$date'] + \"\\n\")\n",
    "            \n",
    "            # need to remove '\\n' symbol\n",
    "            with open(f'{prefix}_{TITLE}.txt', 'a') as feature_file:\n",
    "                feature_file.write(json_data[TITLE].replace(\"\\n\", '') + \"\\n\")\n",
    "            "
   ]
  },
  {
   "cell_type": "code",
   "execution_count": 6,
   "metadata": {},
   "outputs": [],
   "source": [
    "def extract_features_and_write_2(path_to_data, inp_filename):\n",
    "    \n",
    "    features = [CONTENT, PUBLISHED, TITLE, AUTHOR]\n",
    "#     prefix = 'train' if is_train else 'test'\n",
    "    \n",
    "#     name_former = lambda feat: os.path.join(path_to_data, f'{prefix}_{feat}.txt')\n",
    "    \n",
    "#     feature_files = [\n",
    "#         open(name_former(feat),'w' , encoding='utf-8')\n",
    "#         for feat in features\n",
    "#     ]\n",
    "    \n",
    "    with open(os.path.join(path_to_data, inp_filename), \n",
    "              encoding='utf-8') as inp_json_file:\n",
    "\n",
    "        for line in tqdm_notebook(inp_json_file):\n",
    "            json_data = read_json_line(line)\n",
    "            \n",
    "        pprint(json_data)\n",
    "        print(json_data.keys())"
   ]
  },
  {
   "cell_type": "code",
   "execution_count": 7,
   "metadata": {},
   "outputs": [],
   "source": [
    "PATH_TO_DATA = './' # modify this if you need to"
   ]
  },
  {
   "cell_type": "code",
   "execution_count": 8,
   "metadata": {},
   "outputs": [
    {
     "data": {
      "application/vnd.jupyter.widget-view+json": {
       "model_id": "ceac243b46fe4ff6be1b41e69ca4f0af",
       "version_major": 2,
       "version_minor": 0
      },
      "text/plain": [
       "HBox(children=(IntProgress(value=1, bar_style='info', max=1), HTML(value='')))"
      ]
     },
     "metadata": {},
     "output_type": "display_data"
    },
    {
     "name": "stdout",
     "output_type": "stream",
     "text": [
      "\n"
     ]
    }
   ],
   "source": [
    "extract_features_and_write(PATH_TO_DATA, 'train.json', is_train=True)"
   ]
  },
  {
   "cell_type": "code",
   "execution_count": 9,
   "metadata": {},
   "outputs": [
    {
     "data": {
      "application/vnd.jupyter.widget-view+json": {
       "model_id": "e55f344fd44c477092ca6234dc61813b",
       "version_major": 2,
       "version_minor": 0
      },
      "text/plain": [
       "HBox(children=(IntProgress(value=1, bar_style='info', max=1), HTML(value='')))"
      ]
     },
     "metadata": {},
     "output_type": "display_data"
    },
    {
     "name": "stdout",
     "output_type": "stream",
     "text": [
      "\n",
      "{'_id': 'https://byrslf.co/i-wish-you-were-dead-658ed1c0fa7c',\n",
      " '_spider': 'medium',\n",
      " '_timestamp': 1520086969.2581928,\n",
      " 'author': {'name': None,\n",
      "            'twitter': '@politix_news',\n",
      "            'url': 'https://byrslf.co/@Politix_news'},\n",
      " 'content': '<div><header class=\"container u-maxWidth740\"><div class=\"uiScale '\n",
      "            'uiScale-ui--regular uiScale-caption--regular postMetaHeader '\n",
      "            'u-paddingBottom10 row\"><div class=\"col u-size12of12 '\n",
      "            'js-postMetaLockup\"><div class=\"uiScale uiScale-ui--regular '\n",
      "            'uiScale-caption--regular postMetaLockup '\n",
      "            'postMetaLockup--authorWithBio u-flexCenter '\n",
      "            'js-postMetaLockup\"><div class=\"u-flex0\"><a class=\"link '\n",
      "            'u-baseColor--link avatar\" '\n",
      "            'href=\"https://byrslf.co/@Politix_news?source=post_header_lockup\" '\n",
      "            'data-action=\"show-user-card\" '\n",
      "            'data-action-source=\"post_header_lockup\" '\n",
      "            'data-action-value=\"3a0d32cc5aaa\" data-action-type=\"hover\" '\n",
      "            'data-user-id=\"3a0d32cc5aaa\" data-collection-slug=\"life-tips\" '\n",
      "            'dir=\"auto\"><div class=\"u-relative u-inlineBlock u-flex0\"><img '\n",
      "            'src=\"https://cdn-images-1.medium.com/fit/c/120/120/1*YAVSM0wj0hQnwvyKWYxcLA.jpeg\" '\n",
      "            'class=\"avatar-image avatar-image--small\" alt=\"Go to the profile '\n",
      "            'of Heather Nann\"><div class=\"avatar-halo u-absolute '\n",
      "            'u-textColorGreenNormal svgIcon\" style=\"width: calc(100% + 12px); '\n",
      "            'height: calc(100% + 12px); top:-6px; left:-6px\"><svg viewbox=\"0 0 '\n",
      "            '114 114\" xmlns=\"http://www.w3.org/2000/svg\"><path '\n",
      "            'd=\"M7.66922967,32.092726 C17.0070768,13.6353618 35.9421928,1.75 '\n",
      "            '57,1.75 C78.0578072,1.75 96.9929232,13.6353618 '\n",
      "            '106.33077,32.092726 L107.66923,31.4155801 C98.0784505,12.4582656 '\n",
      "            '78.6289015,0.25 57,0.25 C35.3710985,0.25 15.9215495,12.4582656 '\n",
      "            '6.33077033,31.4155801 L7.66922967,32.092726 Z\"></path><path '\n",
      "            'd=\"M106.33077,81.661427 C96.9929232,100.118791 '\n",
      "            '78.0578072,112.004153 57,112.004153 C35.9421928,112.004153 '\n",
      "            '17.0070768,100.118791 7.66922967,81.661427 L6.33077033,82.338573 '\n",
      "            'C15.9215495,101.295887 35.3710985,113.504153 57,113.504153 '\n",
      "            'C78.6289015,113.504153 98.0784505,101.295887 107.66923,82.338573 '\n",
      "            'L106.33077,81.661427 Z\"></path></svg></div></div></a></div><div '\n",
      "            'class=\"u-flex1 u-paddingLeft15 u-overflowHidden\"><div '\n",
      "            'class=\"u-lineHeightTightest\"><a class=\"ds-link '\n",
      "            'ds-link--styleSubtle ui-captionStrong u-inlineBlock link '\n",
      "            'link--darken link--darker\" '\n",
      "            'href=\"https://byrslf.co/@Politix_news?source=post_header_lockup\" '\n",
      "            'data-action=\"show-user-card\" '\n",
      "            'data-action-source=\"post_header_lockup\" '\n",
      "            'data-action-value=\"3a0d32cc5aaa\" data-action-type=\"hover\" '\n",
      "            'data-user-id=\"3a0d32cc5aaa\" data-collection-slug=\"life-tips\" '\n",
      "            'dir=\"auto\">Heather Nann</a><span class=\"followState '\n",
      "            'js-followState\" data-user-id=\"3a0d32cc5aaa\"></span></div><div '\n",
      "            'class=\"ui-caption ui-xs-clamp2 postMetaInline\">I write stuff. '\n",
      "            'Life Is Beautiful. Oxford comma. Enthusiastic reader. Warrior '\n",
      "            'Mother. Feminist. Writer of truths. Progressive. Pissed '\n",
      "            'off.</div><div class=\"ui-caption postMetaInline '\n",
      "            'js-testPostMetaInlineSupplemental\"><time '\n",
      "            'datetime=\"2016-01-25T03:20:33.005Z\">Jan 24, 2016</time><span '\n",
      "            'class=\"middotDivider u-fontSize12\"></span><span '\n",
      "            'class=\"readingTime\" title=\"5 min '\n",
      "            'read\"></span></div></div></div></div></div></header><div '\n",
      "            'class=\"postArticle-content js-postField js-notesSource '\n",
      "            'js-trackedPost\" data-post-id=\"658ed1c0fa7c\" '\n",
      "            'data-source=\"post_page\" data-collection-id=\"323c513f6364\" '\n",
      "            'data-tracking-context=\"postPage\"><section name=\"4aab\" '\n",
      "            'class=\"section section--body section--first\"><div '\n",
      "            'class=\"section-divider\"><hr class=\"section-divider\"></div><div '\n",
      "            'class=\"section-content\"><div class=\"section-inner '\n",
      "            'sectionLayout--insetColumn\"><h1 name=\"9434\" id=\"9434\" class=\"graf '\n",
      "            'graf--h3 graf--startsWithDoubleQuote graf--leading '\n",
      "            'graf--title\">“I WISH YOU WOULD KILL YOURSELF”</h1><h2 name=\"6832\" '\n",
      "            'id=\"6832\" class=\"graf graf--h4 graf-after--h3 graf--subtitle\">The '\n",
      "            'Wonderful Teen\\xa0Years</h2><figure name=\"4f75\" id=\"4f75\" '\n",
      "            'class=\"graf graf--figure graf-after--h4\"><div '\n",
      "            'class=\"aspectRatioPlaceholder is-locked\" style=\"max-width: 700px; '\n",
      "            'max-height: 337px;\"><div class=\"aspectRatioPlaceholder-fill\" '\n",
      "            'style=\"padding-bottom: 48.199999999999996%;\"></div><img '\n",
      "            'class=\"graf-image\" data-image-id=\"1*3GDikTA7u1Oz0oVerz_LgA.jpeg\" '\n",
      "            'data-width=\"3861\" data-height=\"1860\" data-action=\"zoom\" '\n",
      "            'data-action-value=\"1*3GDikTA7u1Oz0oVerz_LgA.jpeg\" '\n",
      "            'src=\"https://cdn-images-1.medium.com/max/1600/1*3GDikTA7u1Oz0oVerz_LgA.jpeg\"></div></figure><p '\n",
      "            'name=\"7910\" id=\"7910\" class=\"graf graf--p graf-after--figure\">So, '\n",
      "            '15, after getting angry that I told her I was taking her phone, '\n",
      "            'screamed into my face:</p><h3 name=\"e7de\" id=\"e7de\" class=\"graf '\n",
      "            'graf--h3 graf-after--p graf--trailing\"><strong '\n",
      "            'class=\"markup--strong markup--h3-strong\">I WISH YOU WOULD KILL '\n",
      "            'YOURSELF</strong>.</h3></div></div></section><section name=\"1a40\" '\n",
      "            'class=\"section section--body section--last\"><div '\n",
      "            'class=\"section-divider\"><hr class=\"section-divider\"></div><div '\n",
      "            'class=\"section-content\"><div class=\"section-inner '\n",
      "            'sectionLayout--insetColumn\"><p name=\"4a93\" id=\"4a93\" class=\"graf '\n",
      "            'graf--p graf--leading\">All righty then.</p><p name=\"e955\" '\n",
      "            'id=\"e955\" class=\"graf graf--p graf-after--p\">I am not going to '\n",
      "            'take her up on her suggestion. Five months ago I chose to commit '\n",
      "            'myself to a hospital precisely because I was suicidal. The only '\n",
      "            'thing that stopped me from plowing my car into a tree was the '\n",
      "            'knowledge that I would hurt my daughter in ways I couldn’t '\n",
      "            'imagine. So I checked myself in and spent 9 days trying to get my '\n",
      "            'head in one place; the next three months were spent doing the '\n",
      "            'hard work of righting my ship. An intensive outpatient program '\n",
      "            'combined with individual therapy and finding the right '\n",
      "            'medications have gotten me here. To a place where I am still '\n",
      "            'listing a bit, but I am mostly anchored to solid.</p><p '\n",
      "            'name=\"ccf7\" id=\"ccf7\" class=\"graf graf--p graf-after--p\">So that, '\n",
      "            'hurled into my face, felt a bit like a rogue wave washing over '\n",
      "            'me, pushing me down into the murky, my aft eager to take charge '\n",
      "            'and send the entire vessel underwater.</p><figure name=\"6b04\" '\n",
      "            'id=\"6b04\" class=\"graf graf--figure graf-after--p\"><div '\n",
      "            'class=\"aspectRatioPlaceholder is-locked\" style=\"max-width: 700px; '\n",
      "            'max-height: 526px;\"><div class=\"aspectRatioPlaceholder-fill\" '\n",
      "            'style=\"padding-bottom: 75.2%;\"></div><img class=\"graf-image\" '\n",
      "            'data-image-id=\"1*D675yYLvod6ey7_y9MKJIw.jpeg\" data-width=\"1980\" '\n",
      "            'data-height=\"1488\" data-action=\"zoom\" '\n",
      "            'data-action-value=\"1*D675yYLvod6ey7_y9MKJIw.jpeg\" '\n",
      "            'src=\"https://cdn-images-1.medium.com/max/1600/1*D675yYLvod6ey7_y9MKJIw.jpeg\"></div></figure><p '\n",
      "            'name=\"51be\" id=\"51be\" class=\"graf graf--p graf-after--figure\">I '\n",
      "            'think I would have rather been literally slapped in the face, '\n",
      "            'than have had those words pushed into my head. Because she knows '\n",
      "            'why I was in the hospital. She knows that I have lived with '\n",
      "            'clinical depression since I was a teenager: 15, in fact, the age '\n",
      "            'she is now. She knows that she is at a higher risk for developing '\n",
      "            'depression, but it’s just a risk, not a done deal. I have been '\n",
      "            'open and honest about living with depression, since she was much '\n",
      "            'younger; I never wanted her to feel isolated or different or '\n",
      "            'crazy or yes, god forbid, suicidal, if she started feeling down '\n",
      "            'or blue or sad all the time.</p><p name=\"943e\" id=\"943e\" '\n",
      "            'class=\"graf graf--p graf-after--p\">When she was younger, I '\n",
      "            'sometimes had to take her to my therapy appointments because her '\n",
      "            'father was working. I was going to the ‘talking doctor,’ I’d tell '\n",
      "            'her, explaining that he helped when my heart hurt, or my mind '\n",
      "            'hurt.<em class=\"markup--em markup--p-em\"> If you have a broken '\n",
      "            'arm, you go to the bone doctor</em>, I’d tell her. The talking '\n",
      "            'doc helped me in the same way. I never wanted her to fear '\n",
      "            'depression, or feel that it was something that was shameful or '\n",
      "            'needed to be hidden. <em class=\"markup--em markup--p-em\">I wanted '\n",
      "            'her to know that treating the ache of a heart or a mind was '\n",
      "            'something we do, like treating an ankle sprained playing '\n",
      "            'basketball.</em></p><p name=\"e4d9\" id=\"e4d9\" class=\"graf graf--p '\n",
      "            'graf-after--p\">The night that I committed myself last August, her '\n",
      "            'father and I went into her room. It was very late, I was crying, '\n",
      "            'sobbing: <em class=\"markup--em markup--p-em\">I’m going to the '\n",
      "            'hospital, to get some help. </em><strong class=\"markup--strong '\n",
      "            'markup--p-strong\">Good, she said. I love you, Mom. <em '\n",
      "            'class=\"markup--em markup--p-em\">I love you, too,</em> I told<em '\n",
      "            'class=\"markup--em markup--p-em\"> her.</em></strong></p><figure '\n",
      "            'name=\"ebad\" id=\"ebad\" class=\"graf graf--figure '\n",
      "            'graf-after--p\"><div class=\"aspectRatioPlaceholder is-locked\" '\n",
      "            'style=\"max-width: 700px; max-height: 933px;\"><div '\n",
      "            'class=\"aspectRatioPlaceholder-fill\" style=\"padding-bottom: '\n",
      "            '133.29999999999998%;\"></div><img class=\"graf-image\" '\n",
      "            'data-image-id=\"1*qP_WCrSbO6J4PjIJDcaGIg.jpeg\" data-width=\"2304\" '\n",
      "            'data-height=\"3072\" data-action=\"zoom\" '\n",
      "            'data-action-value=\"1*qP_WCrSbO6J4PjIJDcaGIg.jpeg\" '\n",
      "            'src=\"https://cdn-images-1.medium.com/max/1600/1*qP_WCrSbO6J4PjIJDcaGIg.jpeg\"></div></figure><p '\n",
      "            'name=\"d7e6\" id=\"d7e6\" class=\"graf graf--p '\n",
      "            'graf-after--figure\">Four days later, her dad brought her to see '\n",
      "            'me. They waited in line at the locked acute wing, providing to '\n",
      "            'staff for examination the slip-on sneakers, and clothes, that '\n",
      "            'they’d brought me. We ate a snack in the kitchen area, and I '\n",
      "            'showed them my private room and bathroom. It was important for '\n",
      "            'her to see that I wasn’t tied to a bed, or walking around in a '\n",
      "            'Johnny with my bumm hanging out. That recovery from a breakdown '\n",
      "            'is a positive.</p><p name=\"9611\" id=\"9611\" class=\"graf graf--p '\n",
      "            'graf-after--p\">I’ve been back at work for a couple of months now, '\n",
      "            'and we have for the most part maintained a fairly normal '\n",
      "            'existence. Cracks have appeared though; a few weeks ago, in the '\n",
      "            'middle of a conversation, she asked, in a tone tinged with '\n",
      "            'nastiness: <em class=\"markup--em markup--p-em\">When are you '\n",
      "            'moving out, anyway? I mean, you said you were getting a divorce, '\n",
      "            'so why haven’t you left?</em></p><p name=\"9e63\" id=\"9e63\" '\n",
      "            'class=\"graf graf--p graf-after--p\">Hmm. Ouch. I told her I '\n",
      "            'thought she was better than that; that she knows words hurt and '\n",
      "            'that that hurt. And I would move out when I had the means to move '\n",
      "            'out.</p><p name=\"ca9a\" id=\"ca9a\" class=\"graf graf--p '\n",
      "            'graf-after--p\">So this. This complete overreaction to being told '\n",
      "            'to do the dishes and then being told that she was losing her '\n",
      "            'phone, because I was tired of her shitty mouth and '\n",
      "            'attitude?</p><p name=\"f36e\" id=\"f36e\" class=\"graf graf--p '\n",
      "            'graf-after--p\"><strong class=\"markup--strong markup--p-strong\">I '\n",
      "            'can’t do it.</strong></p><p name=\"b8a9\" id=\"b8a9\" class=\"graf '\n",
      "            'graf--p graf-after--p\"><em class=\"markup--em markup--p-em\">It’s '\n",
      "            'ok, Kitten, to hate me. You are 15 and being 15 sucks. School and '\n",
      "            'friends and obligations and grades and all the stuff that comes '\n",
      "            'with transitioning from little kid to young adult. You need '\n",
      "            'someplace to vent, someone to be the target of your teenage '\n",
      "            'poison. I have been that bullseye for a long time; it is easy for '\n",
      "            'you to point the sharp edge of your dart and throw it at me, '\n",
      "            'because I am willing to take it.</em></p><p name=\"fc11\" id=\"fc11\" '\n",
      "            'class=\"graf graf--p graf-after--p\"><em class=\"markup--em '\n",
      "            'markup--p-em\">But this, my love, my light, is not ok.</em></p><p '\n",
      "            'name=\"3d11\" id=\"3d11\" class=\"graf graf--p graf-after--p\">You mean '\n",
      "            'the world to me, Love, you really do. And because of that, I am '\n",
      "            'going to find you a therapist who can help you with the anger you '\n",
      "            'feel towards me, and perhaps, some underlying depression you may '\n",
      "            'have. I don’t know: maybe you are angry that you don’t have a '\n",
      "            'cookie-cutter vanilla mom, but one who struggles. Maybe you look '\n",
      "            'at me and resent me because you know you’re at risk for '\n",
      "            'depression, that my genes are a bit, Uhm, defective that way. '\n",
      "            'Maybe you’re feeling it now and it scares the shit out of you and '\n",
      "            'you hate me for it.</p><p name=\"11a5\" id=\"11a5\" class=\"graf '\n",
      "            'graf--p graf-after--p\"><strong class=\"markup--strong '\n",
      "            'markup--p-strong\"><em class=\"markup--em markup--p-em\">I am sorry, '\n",
      "            'Sweetheart. Truly, I am. </em>I will move out.</strong></p><p '\n",
      "            'name=\"1420\" id=\"1420\" class=\"graf graf--p graf-after--p\"><strong '\n",
      "            'class=\"markup--strong markup--p-strong\">But it has nothing to '\n",
      "            'with your words.</strong></p><p name=\"2234\" id=\"2234\" class=\"graf '\n",
      "            'graf--p graf-after--p\"><em class=\"markup--em markup--p-em\">I will '\n",
      "            'move out because I cannot live with the knowledge that you hate '\n",
      "            'me so much that you think it is on to tell me to kill myself; '\n",
      "            'that because I am still, even marginally, at risk for that, I '\n",
      "            'can’t stay and be your target right now. I will move out so that '\n",
      "            'you can let some of your anger and disappointment fade; so that '\n",
      "            'I’m not a constant reminder of your disappointment or your worry '\n",
      "            'what might become of you. I will move out so that you can get the '\n",
      "            'help you need\\u200a—\\u200aand I do think you need help in '\n",
      "            'processing your stuff.</em></p><p name=\"6795\" id=\"6795\" '\n",
      "            'class=\"graf graf--p graf-after--p\"><em class=\"markup--em '\n",
      "            'markup--p-em\">I truly will kill and die for you, Honey. Moving '\n",
      "            'out so that you have peace of mind? So that you and I don’t '\n",
      "            'irreparably damage our relationship? Yes, my love, Of course I '\n",
      "            'will go</em>.</p><p name=\"5754\" id=\"5754\" class=\"graf graf--p '\n",
      "            'graf-after--p\"><em class=\"markup--em markup--p-em\">Ciao for now, '\n",
      "            'my love. Wherever I am? There you are. And here I am. Waiting. '\n",
      "            'Always. Waiting.</em></p><p name=\"588a\" id=\"588a\" class=\"graf '\n",
      "            'graf--p graf-after--p\"><strong class=\"markup--strong '\n",
      "            'markup--p-strong\"><em class=\"markup--em markup--p-em\">Because I '\n",
      "            'love you more than life itself, and I want us to have a long and '\n",
      "            'beautiful life together. Even if it means we have to be apart for '\n",
      "            'a while.</em></strong></p><figure name=\"3ac5\" id=\"3ac5\" '\n",
      "            'class=\"graf graf--figure graf-after--p\"><div '\n",
      "            'class=\"aspectRatioPlaceholder is-locked\" style=\"max-width: 700px; '\n",
      "            'max-height: 739px;\"><div class=\"aspectRatioPlaceholder-fill\" '\n",
      "            'style=\"padding-bottom: 105.60000000000001%;\"></div><img '\n",
      "            'class=\"graf-image\" data-image-id=\"1*2bkK27wW4N-syzwKqYpUbg.jpeg\" '\n",
      "            'data-width=\"3375\" data-height=\"3564\" data-action=\"zoom\" '\n",
      "            'data-action-value=\"1*2bkK27wW4N-syzwKqYpUbg.jpeg\" '\n",
      "            'src=\"https://cdn-images-1.medium.com/max/1600/1*2bkK27wW4N-syzwKqYpUbg.jpeg\"></div></figure><h3 '\n",
      "            'name=\"8c8f\" id=\"8c8f\" class=\"graf graf--h3 '\n",
      "            'graf-after--figure\">Love always,</h3><h3 name=\"53dc\" id=\"53dc\" '\n",
      "            'class=\"graf graf--h3 graf-after--h3 '\n",
      "            'graf--trailing\">Mom</h3></div></div></section></div><footer '\n",
      "            'class=\"u-paddingTop10\"><div class=\"container u-maxWidth740\"><div '\n",
      "            'class=\"row\"><div class=\"col u-size12of12\"></div></div><div '\n",
      "            'class=\"row\"><div class=\"col u-size12of12 js-postTags\"><div '\n",
      "            'class=\"u-paddingBottom10\"><ul class=\"tags tags--postTags '\n",
      "            'tags--borderless\"><li><a class=\"link u-baseColor--link\" '\n",
      "            'href=\"https://byrslf.co/tagged/life?source=post\" '\n",
      "            'data-action-source=\"post\" '\n",
      "            'data-collection-slug=\"life-tips\">Life</a></li><li><a class=\"link '\n",
      "            'u-baseColor--link\" '\n",
      "            'href=\"https://byrslf.co/tagged/parenting?source=post\" '\n",
      "            'data-action-source=\"post\" '\n",
      "            'data-collection-slug=\"life-tips\">Parenting</a></li><li><a '\n",
      "            'class=\"link u-baseColor--link\" '\n",
      "            'href=\"https://byrslf.co/tagged/mental-health?source=post\" '\n",
      "            'data-action-source=\"post\" data-collection-slug=\"life-tips\">Mental '\n",
      "            'Health</a></li></ul></div></div></div><section class=\"uiScale '\n",
      "            'uiScale-ui--small uiScale-caption--regular u-borderTopLightest '\n",
      "            'u-marginTop10 u-paddingTop20\"><div class=\"ui-h3 u-textColorDarker '\n",
      "            'u-fontSize22\">One clap, two clap, three clap, forty?</div><p '\n",
      "            'class=\"ui-body u-marginBottom20 u-textColorDark u-fontSize16\">By '\n",
      "            'clapping more or less, you can signal to us which stories really '\n",
      "            'stand out.</p></section><div class=\"postActions '\n",
      "            'js-postActionsFooter\"><div class=\"u-flexCenter\"><div '\n",
      "            'class=\"u-flex1\"><div class=\"multirecommend '\n",
      "            'js-actionMultirecommend u-flexCenter u-width60\" '\n",
      "            'data-post-id=\"658ed1c0fa7c\" data-is-icon-29px=\"true\" '\n",
      "            'data-is-circle=\"true\" data-has-recommend-list=\"true\" '\n",
      "            'data-source=\"post_actions_footer-----658ed1c0fa7c---------------------clap_footer\"><div '\n",
      "            'class=\"u-relative u-foreground\"><div class=\"clapUndo u-width60 '\n",
      "            'u-round u-height32 u-absolute u-borderBox u-paddingRight5 '\n",
      "            'u-transition--transform200Spring u-background--brandSageLighter '\n",
      "            'js-clapUndo\" style=\"top: 14px; padding: 2px;\"></div></div><span '\n",
      "            'class=\"u-textAlignCenter u-relative u-background '\n",
      "            'js-actionMultirecommendCount '\n",
      "            'u-marginLeft10\"></span></div></div><div class=\"buttonSet '\n",
      "            'u-flex0\"></div></div></div></div><div class=\"u-maxWidth740 '\n",
      "            'u-paddingTop20 u-marginTop20 u-borderTopLightest container '\n",
      "            'u-paddingBottom20 u-xs-paddingBottom10 '\n",
      "            'js-postAttributionFooterContainer\"><div class=\"row '\n",
      "            'js-postFooterInfo\"><div class=\"col u-size6of12 '\n",
      "            'u-xs-size12of12\"><li class=\"uiScale uiScale-ui--small '\n",
      "            'uiScale-caption--regular u-block u-paddingBottom18 '\n",
      "            'js-cardUser\"><div class=\"u-marginLeft20 u-floatRight\"><span '\n",
      "            'class=\"followState js-followState\" '\n",
      "            'data-user-id=\"3a0d32cc5aaa\"></span></div><div '\n",
      "            'class=\"u-tableCell\"><a class=\"link u-baseColor--link avatar\" '\n",
      "            'href=\"https://byrslf.co/@Politix_news?source=footer_card\" '\n",
      "            'title=\"Go to the profile of Heather Nann\" aria-label=\"Go to the '\n",
      "            'profile of Heather Nann\" data-action-source=\"footer_card\" '\n",
      "            'data-user-id=\"3a0d32cc5aaa\" data-collection-slug=\"life-tips\" '\n",
      "            'dir=\"auto\"><div class=\"u-relative u-inlineBlock u-flex0\"><img '\n",
      "            'src=\"https://cdn-images-1.medium.com/fit/c/120/120/1*YAVSM0wj0hQnwvyKWYxcLA.jpeg\" '\n",
      "            'class=\"avatar-image avatar-image--small\" alt=\"Go to the profile '\n",
      "            'of Heather Nann\"><div class=\"avatar-halo u-absolute '\n",
      "            'u-textColorGreenNormal svgIcon\" style=\"width: calc(100% + 12px); '\n",
      "            'height: calc(100% + 12px); top:-6px; left:-6px\"><svg viewbox=\"0 0 '\n",
      "            '114 114\" xmlns=\"http://www.w3.org/2000/svg\"><path '\n",
      "            'd=\"M7.66922967,32.092726 C17.0070768,13.6353618 35.9421928,1.75 '\n",
      "            '57,1.75 C78.0578072,1.75 96.9929232,13.6353618 '\n",
      "            '106.33077,32.092726 L107.66923,31.4155801 C98.0784505,12.4582656 '\n",
      "            '78.6289015,0.25 57,0.25 C35.3710985,0.25 15.9215495,12.4582656 '\n",
      "            '6.33077033,31.4155801 L7.66922967,32.092726 Z\"></path><path '\n",
      "            'd=\"M106.33077,81.661427 C96.9929232,100.118791 '\n",
      "            '78.0578072,112.004153 57,112.004153 C35.9421928,112.004153 '\n",
      "            '17.0070768,100.118791 7.66922967,81.661427 L6.33077033,82.338573 '\n",
      "            'C15.9215495,101.295887 35.3710985,113.504153 57,113.504153 '\n",
      "            'C78.6289015,113.504153 98.0784505,101.295887 107.66923,82.338573 '\n",
      "            'L106.33077,81.661427 Z\"></path></svg></div></div></a></div><div '\n",
      "            'class=\"u-tableCell u-verticalAlignMiddle u-breakWord '\n",
      "            'u-paddingLeft15\"><h3 class=\"ui-h3 u-fontSize18 '\n",
      "            'u-lineHeightTighter\"><a class=\"link link--primary '\n",
      "            'u-accentColor--hoverTextNormal\" '\n",
      "            'href=\"https://byrslf.co/@Politix_news\" '\n",
      "            'property=\"cc:attributionName\" title=\"Go to the profile of Heather '\n",
      "            'Nann\" aria-label=\"Go to the profile of Heather Nann\" rel=\"author '\n",
      "            'cc:attributionUrl\" data-user-id=\"3a0d32cc5aaa\" '\n",
      "            'data-collection-slug=\"life-tips\" dir=\"auto\">Heather '\n",
      "            'Nann</a></h3><div class=\"ui-caption u-textColorGreenNormal '\n",
      "            'u-fontSize13 u-tintSpectrum u-accentColor--textNormal '\n",
      "            'u-marginBottom7\">Medium member since Apr 2017</div><p '\n",
      "            'class=\"ui-body u-fontSize14 u-lineHeightBaseSans u-textColorDark '\n",
      "            'u-marginBottom4\">I write stuff. Life Is Beautiful. Oxford comma. '\n",
      "            'Enthusiastic reader. Warrior Mother. Feminist. Writer of truths. '\n",
      "            'Progressive. Pissed off.</p></div></li></div><div class=\"col '\n",
      "            'u-size6of12 u-xs-size12of12 u-xs-marginTop30\"><li class=\"uiScale '\n",
      "            'uiScale-ui--small uiScale-caption--regular u-block '\n",
      "            'u-paddingBottom18 js-cardCollection\"><div class=\"u-marginLeft20 '\n",
      "            'u-floatRight\"></div><div class=\"u-tableCell \"><a class=\"link '\n",
      "            'u-baseColor--link avatar avatar--roundedRectangle\" '\n",
      "            'href=\"https://byrslf.co?source=footer_card\" title=\"Go to Be '\n",
      "            'Yourself\" aria-label=\"Go to Be Yourself\" '\n",
      "            'data-action-source=\"footer_card\" '\n",
      "            'data-collection-slug=\"life-tips\"><img '\n",
      "            'src=\"https://cdn-images-1.medium.com/fit/c/120/120/1*fQU81iavBgiWfXZNvBtnDQ.png\" '\n",
      "            'class=\"avatar-image u-size60x60\" alt=\"Be Yourself\"></a></div><div '\n",
      "            'class=\"u-tableCell u-verticalAlignMiddle u-breakWord '\n",
      "            'u-paddingLeft15\"><h3 class=\"ui-h3 u-fontSize18 '\n",
      "            'u-lineHeightTighter u-marginBottom4\"><a class=\"link link--primary '\n",
      "            'u-accentColor--hoverTextNormal\" '\n",
      "            'href=\"https://byrslf.co?source=footer_card\" rel=\"collection\" '\n",
      "            'data-action-source=\"footer_card\" '\n",
      "            'data-collection-slug=\"life-tips\">Be Yourself</a></h3><p '\n",
      "            'class=\"ui-body u-fontSize14 u-lineHeightBaseSans u-textColorDark '\n",
      "            'u-marginBottom4\">Don\\'t instruct, share.</p><div '\n",
      "            'class=\"buttonSet\"></div></div></li></div></div></div><div '\n",
      "            'class=\"js-postFooterPlacements\"></div><div class=\"u-padding0 '\n",
      "            'u-clearfix u-backgroundGrayLightest u-print-hide '\n",
      "            'supplementalPostContent js-responsesWrapper\"></div><div '\n",
      "            'class=\"supplementalPostContent '\n",
      "            'js-heroPromo\"></div></footer></div>',\n",
      " 'domain': 'byrslf.co',\n",
      " 'image_url': 'https://cdn-images-1.medium.com/max/1200/1*3GDikTA7u1Oz0oVerz_LgA.jpeg',\n",
      " 'link_tags': {'alternate': 'android-app://com.medium.reader/https/medium.com/p/658ed1c0fa7c',\n",
      "               'apple-touch-icon': 'https://cdn-images-1.medium.com/fit/c/120/120/1*fQU81iavBgiWfXZNvBtnDQ.png',\n",
      "               'author': 'https://byrslf.co/@Politix_news',\n",
      "               'canonical': 'https://byrslf.co/i-wish-you-were-dead-658ed1c0fa7c',\n",
      "               'icon': 'https://cdn-static-1.medium.com/_/fp/icons/favicon-rebrand-medium.3Y6xpZ-0FSdWDnPM3hSBIA.ico',\n",
      "               'mask-icon': 'https://cdn-static-1.medium.com/_/fp/icons/monogram-mask.KPLCSFEZviQN0jQ7veN2RQ.svg',\n",
      "               'publisher': 'https://plus.google.com/103654360130207659246',\n",
      "               'search': '/osd.xml',\n",
      "               'stylesheet': 'https://cdn-static-1.medium.com/_/fp/css/main-branding-base.Ch8g7KPCoGXbtKfJaVXo_w.css'},\n",
      " 'meta_tags': {'al:android:app_name': 'Medium',\n",
      "               'al:android:package': 'com.medium.reader',\n",
      "               'al:android:url': 'medium://p/658ed1c0fa7c',\n",
      "               'al:ios:app_name': 'Medium',\n",
      "               'al:ios:app_store_id': '828256236',\n",
      "               'al:ios:url': 'medium://p/658ed1c0fa7c',\n",
      "               'al:web:url': 'https://byrslf.co/i-wish-you-were-dead-658ed1c0fa7c',\n",
      "               'article:author': '10209752558464639',\n",
      "               'article:published_time': '2016-01-25T03:20:33.005Z',\n",
      "               'article:publisher': 'https://www.facebook.com/medium',\n",
      "               'author': 'Heather Nann',\n",
      "               'description': 'I am not going to take her up on her '\n",
      "                              'suggestion. Five months ago I chose to commit '\n",
      "                              'myself to a hospital precisely because I was '\n",
      "                              'suicidal. The only thing that stopped me from '\n",
      "                              'plowing my car into a…',\n",
      "               'fb:app_id': '542599432471018',\n",
      "               'og:description': 'The Wonderful Teen Years',\n",
      "               'og:image': 'https://cdn-images-1.medium.com/max/1200/1*3GDikTA7u1Oz0oVerz_LgA.jpeg',\n",
      "               'og:site_name': 'Be Yourself',\n",
      "               'og:title': '“I WISH YOU WOULD KILL YOURSELF” – Be Yourself',\n",
      "               'og:type': 'article',\n",
      "               'og:url': 'https://byrslf.co/i-wish-you-were-dead-658ed1c0fa7c',\n",
      "               'referrer': 'unsafe-url',\n",
      "               'robots': 'index, follow',\n",
      "               'theme-color': '#000000',\n",
      "               'title': '“I WISH YOU WOULD KILL YOURSELF” – Be Yourself',\n",
      "               'twitter:app:id:iphone': '828256236',\n",
      "               'twitter:app:name:iphone': 'Medium',\n",
      "               'twitter:app:url:iphone': 'medium://p/658ed1c0fa7c',\n",
      "               'twitter:card': 'summary_large_image',\n",
      "               'twitter:creator': '@politix_news',\n",
      "               'twitter:data1': '5 min read',\n",
      "               'twitter:description': 'The Wonderful Teen Years',\n",
      "               'twitter:image:src': 'https://cdn-images-1.medium.com/max/1200/1*3GDikTA7u1Oz0oVerz_LgA.jpeg',\n",
      "               'twitter:label1': 'Reading time',\n",
      "               'twitter:site': '@joelmwakasege',\n",
      "               'viewport': 'width=device-width, initial-scale=1'},\n",
      " 'published': {'$date': '2016-01-25T03:20:33.005Z'},\n",
      " 'tags': [],\n",
      " 'title': '“I WISH YOU WOULD KILL YOURSELF” – Be Yourself',\n",
      " 'url': 'https://byrslf.co/i-wish-you-were-dead-658ed1c0fa7c'}\n",
      "dict_keys(['_id', '_timestamp', '_spider', 'url', 'domain', 'published', 'title', 'content', 'author', 'image_url', 'tags', 'link_tags', 'meta_tags'])\n"
     ]
    }
   ],
   "source": [
    "extract_features_and_write_2(PATH_TO_DATA, 'train.json')"
   ]
  },
  {
   "cell_type": "code",
   "execution_count": 10,
   "metadata": {},
   "outputs": [
    {
     "data": {
      "application/vnd.jupyter.widget-view+json": {
       "model_id": "5e36b0e583dc44bba5fb8182859cbe29",
       "version_major": 2,
       "version_minor": 0
      },
      "text/plain": [
       "HBox(children=(IntProgress(value=1, bar_style='info', max=1), HTML(value='')))"
      ]
     },
     "metadata": {},
     "output_type": "display_data"
    },
    {
     "name": "stdout",
     "output_type": "stream",
     "text": [
      "\n"
     ]
    }
   ],
   "source": [
    "extract_features_and_write(PATH_TO_DATA, 'test.json', is_train=False)"
   ]
  },
  {
   "cell_type": "code",
   "execution_count": 11,
   "metadata": {},
   "outputs": [
    {
     "name": "stdout",
     "output_type": "stream",
     "text": [
      "34645 ./test_title.txt\r\n"
     ]
    }
   ],
   "source": [
    "!wc -l './test_title.txt'"
   ]
  },
  {
   "cell_type": "code",
   "execution_count": 12,
   "metadata": {},
   "outputs": [
    {
     "name": "stdout",
     "output_type": "stream",
     "text": [
      "34645 ./test_published.txt\r\n"
     ]
    }
   ],
   "source": [
    "!wc -l './test_published.txt'"
   ]
  },
  {
   "cell_type": "code",
   "execution_count": 13,
   "metadata": {},
   "outputs": [
    {
     "name": "stdout",
     "output_type": "stream",
     "text": [
      "34645 ./test_author.txt\r\n"
     ]
    }
   ],
   "source": [
    "!wc -l './test_author.txt'"
   ]
  },
  {
   "cell_type": "code",
   "execution_count": 14,
   "metadata": {},
   "outputs": [
    {
     "name": "stdout",
     "output_type": "stream",
     "text": [
      "34645 ./test_content.txt\r\n"
     ]
    }
   ],
   "source": [
    "!wc -l './test_content.txt'"
   ]
  },
  {
   "cell_type": "code",
   "execution_count": 15,
   "metadata": {},
   "outputs": [],
   "source": [
    "# TIME FEATURES\n",
    "HOUR = 'hour'\n",
    "WEEKDAY = 'weekday'\n",
    "WEEK = 'week'\n",
    "WEEKEND = 'weekend'\n",
    "MONTH = 'month'\n",
    "YEAR = 'year'\n",
    "MINUTE = 'minute'\n",
    "PUBLISHED = 'published'\n",
    "MORNING = 'morning'\n",
    "DAY = 'day'\n",
    "EVENING = 'evening'\n",
    "NIGHT = 'night'\n",
    "# TITLE FEATURES\n",
    "TITLE = 'title'\n",
    "MEDUIM_SUBDOMAIN = 'medium_subdomain'\n",
    "# AUTHOR\n",
    "AUTHOR = 'author'\n",
    "# CONTENT\n",
    "CONTENT = 'content'"
   ]
  },
  {
   "cell_type": "code",
   "execution_count": 16,
   "metadata": {},
   "outputs": [],
   "source": [
    "def get_datasets_to_sparse_pandas(prefix):\n",
    "    \"\"\"\n",
    "    TODO\n",
    "    Add IS_MORNING, IS_EVENING, IS_DAY, IS_NIGHT\n",
    "    \"\"\"\n",
    "    X_content_sparse = pd.read_csv(f'./{prefix}_content.txt', sep=\"\\n\", names=[CONTENT])\n",
    "    X_author_sparse = pd.read_csv(f'./{prefix}_author.txt', names=[AUTHOR])\n",
    "    X_time_features_sparse = pd.read_csv(f'./{prefix}_published.txt', names=[PUBLISHED])\n",
    "    X_title_sparse = pd.read_csv(f'./{prefix}_title.txt', sep=\"\\n\", names=[TITLE])\n",
    "    \n",
    "    X_time_features_sparse[PUBLISHED] = \\\n",
    "        X_time_features_sparse[PUBLISHED].astype('datetime64[ns]')\n",
    "    X_time_features_sparse[HOUR] = X_time_features_sparse[PUBLISHED].apply(\n",
    "        lambda series:\n",
    "            series.hour) \n",
    "    X_time_features_sparse[YEAR] = X_time_features_sparse[PUBLISHED].apply(\n",
    "        lambda series:\n",
    "            series.year) \n",
    "    X_time_features_sparse[MONTH] = X_time_features_sparse[PUBLISHED].apply(\n",
    "        lambda series:\n",
    "            series.month)\n",
    "    X_time_features_sparse[WEEK] = X_time_features_sparse[PUBLISHED].apply(\n",
    "        lambda series:\n",
    "            series.week) \n",
    "    X_time_features_sparse[WEEKDAY] = X_time_features_sparse[PUBLISHED].apply(\n",
    "        lambda series:\n",
    "            series.dayofweek)\n",
    "    X_time_features_sparse[MINUTE] = X_time_features_sparse[PUBLISHED].apply(\n",
    "        lambda series:\n",
    "            series.minute)\n",
    "    \n",
    "    X_time_features_sparse[MORNING] = X_time_features_sparse[HOUR].apply(\n",
    "        lambda hour: hour in range(5,11))\n",
    "    X_time_features_sparse[DAY] = X_time_features_sparse[HOUR].apply(\n",
    "        lambda hour: hour in range(11, 17))\n",
    "    X_time_features_sparse[EVENING] = X_time_features_sparse[HOUR].apply(\n",
    "        lambda hour: hour in range(17,23))\n",
    "    X_time_features_sparse[NIGHT] = X_time_features_sparse[HOUR].apply(\n",
    "        lambda hour: hour in range(23,5))\n",
    "    X_time_features_sparse[WEEKEND] = X_time_features_sparse[WEEKDAY].apply(\n",
    "        lambda weekday: weekday in range(3,6))\n",
    "    \n",
    "    X_title_sparse[MEDUIM_SUBDOMAIN] = X_title_sparse['title'].apply(\n",
    "        lambda series: \n",
    "            series.split('–')[-1]\n",
    "            if len(series.split('–')) > 1\n",
    "            else None)\n",
    "    X_title_sparse[TITLE] = X_title_sparse['title'].apply(\n",
    "        lambda series:\n",
    "            series.split('–')[0]\n",
    "            if len(series.split('–')) > 1\n",
    "            else series)\n",
    "    \n",
    "    return [X_content_sparse, X_author_sparse, X_time_features_sparse, X_title_sparse]"
   ]
  },
  {
   "cell_type": "code",
   "execution_count": 17,
   "metadata": {},
   "outputs": [],
   "source": [
    "def make_features_digestable(sparse_feautres):\n",
    "    (X_content_sparse, X_author_sparse, \n",
    "     X_time_features_sparse, X_title_sparse) = sparse_feautres\n",
    "    \n",
    "    \n",
    "    author_ohe = OneHotEncoder()\n",
    "    title_ohe = OneHotEncoder()\n",
    "    title_subdomain_ohe = OneHotEncoder()\n",
    "    title_vectorizer = TfidfVectorizer(\n",
    "        ngram_range=(1,2),\n",
    "        max_features=100_000)\n",
    "    content_vectorizer = TfidfVectorizer(\n",
    "        ngram_range=(1,2),\n",
    "        max_features=100_000)\n",
    "    \n",
    "    \n",
    "#     X_time_features_sparse = (\n",
    "#         pd.get_dummies(\n",
    "#             X_time_features_sparse, columns=[HOUR, WEEKDAY])\n",
    "#         .drop([PUBLISHED, YEAR, WEEK, MONTH], axis=1)\n",
    "#     )\n",
    "\n",
    "    X_time_features_sparse = X_time_features_sparse[[MORNING, DAY, EVENING, NIGHT, WEEKEND]]\n",
    "    X_author_sparse_ohe =  author_ohe.fit_transform(X_author_sparse)\n",
    "    X_title_subdomain_ohe = title_ohe.fit_transform(X_title_sparse[[MEDUIM_SUBDOMAIN]].fillna('Empty'))\n",
    "    X_vectorized_title = \\\n",
    "        title_vectorizer.fit_transform(X_title_sparse[TITLE])\n",
    "    X_vectorized_content = \\\n",
    "        content_vectorizer.fit_transform(X_content_sparse[CONTENT])\n",
    "    \n",
    "    return hstack([\n",
    "        X_time_features_sparse,\n",
    "        X_author_sparse_ohe, \n",
    "        X_title_subdomain_ohe,\n",
    "        X_vectorized_title,\n",
    "        X_vectorized_content\n",
    "    ]).tocsr()"
   ]
  },
  {
   "cell_type": "code",
   "execution_count": 18,
   "metadata": {},
   "outputs": [
    {
     "name": "stdout",
     "output_type": "stream",
     "text": [
      "CPU times: user 10.6 s, sys: 952 ms, total: 11.6 s\n",
      "Wall time: 11.5 s\n"
     ]
    }
   ],
   "source": [
    "%%time\n",
    "(X_train_content_sparse, \n",
    " X_train_author_sparse, \n",
    " X_train_time_features_sparse, \n",
    " X_train_title_sparse) = get_datasets_to_sparse_pandas('train')"
   ]
  },
  {
   "cell_type": "code",
   "execution_count": 19,
   "metadata": {},
   "outputs": [
    {
     "name": "stdout",
     "output_type": "stream",
     "text": [
      "CPU times: user 5.56 s, sys: 596 ms, total: 6.16 s\n",
      "Wall time: 6.15 s\n"
     ]
    }
   ],
   "source": [
    "%%time\n",
    "(X_test_content_sparse,\n",
    " X_test_author_sparse,\n",
    " X_test_time_features_sparse,\n",
    " X_test_title_sparse) = get_datasets_to_sparse_pandas('test')"
   ]
  },
  {
   "cell_type": "markdown",
   "metadata": {},
   "source": [
    "**Add the following groups of features:**\n",
    "    - Tf-Idf with article content (ngram_range=(1, 2), max_features=100000 but you can try adding more)\n",
    "    - Tf-Idf with article titles (ngram_range=(1, 2), max_features=100000 but you can try adding more)\n",
    "    - Time features: publication hour, whether it's morning, day, night, whether it's a weekend\n",
    "    - Bag of authors (i.e. One-Hot-Encoded author names) - **DONE**"
   ]
  },
  {
   "cell_type": "code",
   "execution_count": 20,
   "metadata": {},
   "outputs": [
    {
     "name": "stdout",
     "output_type": "stream",
     "text": [
      "CPU times: user 5min 56s, sys: 9.77 s, total: 6min 6s\n",
      "Wall time: 6min 6s\n"
     ]
    }
   ],
   "source": [
    "%%time\n",
    "\n",
    "vecotrizer = TfidfVectorizer(\n",
    "    ngram_range=(1,2),\n",
    "    max_features=100_000\n",
    ")\n",
    "X_train_vectorized_content = \\\n",
    "    vecotrizer.fit_transform(X_train_content_sparse['content'])\n",
    "\n",
    "X_train_vectorized_content\n",
    "\n",
    "vecotrizer.get_feature_names()"
   ]
  },
  {
   "cell_type": "markdown",
   "metadata": {},
   "source": [
    "**Join all sparse matrices.**"
   ]
  },
  {
   "cell_type": "code",
   "execution_count": 21,
   "metadata": {},
   "outputs": [
    {
     "name": "stdout",
     "output_type": "stream",
     "text": [
      "CPU times: user 6min 32s, sys: 25.2 s, total: 6min 57s\n",
      "Wall time: 8min 36s\n"
     ]
    }
   ],
   "source": [
    "%%time\n",
    "\n",
    "X_train_sparse = rcompose(\n",
    "    get_datasets_to_sparse_pandas,\n",
    "    make_features_digestable\n",
    ")('train')"
   ]
  },
  {
   "cell_type": "code",
   "execution_count": 22,
   "metadata": {},
   "outputs": [
    {
     "ename": "ValueError",
     "evalue": "blocks[0,:] has incompatible row dimensions. Got blocks[0,2].shape[0] == 34646, expected 34645.",
     "output_type": "error",
     "traceback": [
      "\u001b[0;31m---------------------------------------------------------------------------\u001b[0m",
      "\u001b[0;31mValueError\u001b[0m                                Traceback (most recent call last)",
      "\u001b[0;32m<timed exec>\u001b[0m in \u001b[0;36m<module>\u001b[0;34m\u001b[0m\n",
      "\u001b[0;32m/opt/conda/lib/python3.7/site-packages/funcy/funcs.py\u001b[0m in \u001b[0;36m<lambda>\u001b[0;34m(*a, **kw)\u001b[0m\n\u001b[1;32m    104\u001b[0m     \u001b[0;34m\"\"\"Composes passed functions.\"\"\"\u001b[0m\u001b[0;34m\u001b[0m\u001b[0;34m\u001b[0m\u001b[0m\n\u001b[1;32m    105\u001b[0m     \u001b[0;32mif\u001b[0m \u001b[0mfs\u001b[0m\u001b[0;34m:\u001b[0m\u001b[0;34m\u001b[0m\u001b[0;34m\u001b[0m\u001b[0m\n\u001b[0;32m--> 106\u001b[0;31m         \u001b[0mpair\u001b[0m \u001b[0;34m=\u001b[0m \u001b[0;32mlambda\u001b[0m \u001b[0mf\u001b[0m\u001b[0;34m,\u001b[0m \u001b[0mg\u001b[0m\u001b[0;34m:\u001b[0m \u001b[0;32mlambda\u001b[0m \u001b[0;34m*\u001b[0m\u001b[0ma\u001b[0m\u001b[0;34m,\u001b[0m \u001b[0;34m**\u001b[0m\u001b[0mkw\u001b[0m\u001b[0;34m:\u001b[0m \u001b[0mf\u001b[0m\u001b[0;34m(\u001b[0m\u001b[0mg\u001b[0m\u001b[0;34m(\u001b[0m\u001b[0;34m*\u001b[0m\u001b[0ma\u001b[0m\u001b[0;34m,\u001b[0m \u001b[0;34m**\u001b[0m\u001b[0mkw\u001b[0m\u001b[0;34m)\u001b[0m\u001b[0;34m)\u001b[0m\u001b[0;34m\u001b[0m\u001b[0;34m\u001b[0m\u001b[0m\n\u001b[0m\u001b[1;32m    107\u001b[0m         \u001b[0;32mreturn\u001b[0m \u001b[0mreduce\u001b[0m\u001b[0;34m(\u001b[0m\u001b[0mpair\u001b[0m\u001b[0;34m,\u001b[0m \u001b[0mmap\u001b[0m\u001b[0;34m(\u001b[0m\u001b[0mmake_func\u001b[0m\u001b[0;34m,\u001b[0m \u001b[0mfs\u001b[0m\u001b[0;34m)\u001b[0m\u001b[0;34m)\u001b[0m\u001b[0;34m\u001b[0m\u001b[0;34m\u001b[0m\u001b[0m\n\u001b[1;32m    108\u001b[0m     \u001b[0;32melse\u001b[0m\u001b[0;34m:\u001b[0m\u001b[0;34m\u001b[0m\u001b[0;34m\u001b[0m\u001b[0m\n",
      "\u001b[0;32m<ipython-input-17-566b03ec11a2>\u001b[0m in \u001b[0;36mmake_features_digestable\u001b[0;34m(sparse_feautres)\u001b[0m\n\u001b[1;32m     34\u001b[0m         \u001b[0mX_title_subdomain_ohe\u001b[0m\u001b[0;34m,\u001b[0m\u001b[0;34m\u001b[0m\u001b[0;34m\u001b[0m\u001b[0m\n\u001b[1;32m     35\u001b[0m         \u001b[0mX_vectorized_title\u001b[0m\u001b[0;34m,\u001b[0m\u001b[0;34m\u001b[0m\u001b[0;34m\u001b[0m\u001b[0m\n\u001b[0;32m---> 36\u001b[0;31m         \u001b[0mX_vectorized_content\u001b[0m\u001b[0;34m\u001b[0m\u001b[0;34m\u001b[0m\u001b[0m\n\u001b[0m\u001b[1;32m     37\u001b[0m     ]).tocsr()\n",
      "\u001b[0;32m/opt/conda/lib/python3.7/site-packages/scipy/sparse/construct.py\u001b[0m in \u001b[0;36mhstack\u001b[0;34m(blocks, format, dtype)\u001b[0m\n\u001b[1;32m    463\u001b[0m \u001b[0;34m\u001b[0m\u001b[0m\n\u001b[1;32m    464\u001b[0m     \"\"\"\n\u001b[0;32m--> 465\u001b[0;31m     \u001b[0;32mreturn\u001b[0m \u001b[0mbmat\u001b[0m\u001b[0;34m(\u001b[0m\u001b[0;34m[\u001b[0m\u001b[0mblocks\u001b[0m\u001b[0;34m]\u001b[0m\u001b[0;34m,\u001b[0m \u001b[0mformat\u001b[0m\u001b[0;34m=\u001b[0m\u001b[0mformat\u001b[0m\u001b[0;34m,\u001b[0m \u001b[0mdtype\u001b[0m\u001b[0;34m=\u001b[0m\u001b[0mdtype\u001b[0m\u001b[0;34m)\u001b[0m\u001b[0;34m\u001b[0m\u001b[0;34m\u001b[0m\u001b[0m\n\u001b[0m\u001b[1;32m    466\u001b[0m \u001b[0;34m\u001b[0m\u001b[0m\n\u001b[1;32m    467\u001b[0m \u001b[0;34m\u001b[0m\u001b[0m\n",
      "\u001b[0;32m/opt/conda/lib/python3.7/site-packages/scipy/sparse/construct.py\u001b[0m in \u001b[0;36mbmat\u001b[0;34m(blocks, format, dtype)\u001b[0m\n\u001b[1;32m    584\u001b[0m                                                     \u001b[0mexp\u001b[0m\u001b[0;34m=\u001b[0m\u001b[0mbrow_lengths\u001b[0m\u001b[0;34m[\u001b[0m\u001b[0mi\u001b[0m\u001b[0;34m]\u001b[0m\u001b[0;34m,\u001b[0m\u001b[0;34m\u001b[0m\u001b[0;34m\u001b[0m\u001b[0m\n\u001b[1;32m    585\u001b[0m                                                     got=A.shape[0]))\n\u001b[0;32m--> 586\u001b[0;31m                     \u001b[0;32mraise\u001b[0m \u001b[0mValueError\u001b[0m\u001b[0;34m(\u001b[0m\u001b[0mmsg\u001b[0m\u001b[0;34m)\u001b[0m\u001b[0;34m\u001b[0m\u001b[0;34m\u001b[0m\u001b[0m\n\u001b[0m\u001b[1;32m    587\u001b[0m \u001b[0;34m\u001b[0m\u001b[0m\n\u001b[1;32m    588\u001b[0m                 \u001b[0;32mif\u001b[0m \u001b[0mbcol_lengths\u001b[0m\u001b[0;34m[\u001b[0m\u001b[0mj\u001b[0m\u001b[0;34m]\u001b[0m \u001b[0;34m==\u001b[0m \u001b[0;36m0\u001b[0m\u001b[0;34m:\u001b[0m\u001b[0;34m\u001b[0m\u001b[0;34m\u001b[0m\u001b[0m\n",
      "\u001b[0;31mValueError\u001b[0m: blocks[0,:] has incompatible row dimensions. Got blocks[0,2].shape[0] == 34646, expected 34645."
     ]
    }
   ],
   "source": [
    "%%time\n",
    "\n",
    "X_test_sparse = rcompose(\n",
    "    get_datasets_to_sparse_pandas,\n",
    "    make_features_digestable\n",
    ")('test')"
   ]
  },
  {
   "cell_type": "markdown",
   "metadata": {},
   "source": [
    "**Read train target and split data for validation.**"
   ]
  },
  {
   "cell_type": "code",
   "execution_count": 30,
   "metadata": {},
   "outputs": [],
   "source": [
    "train_target = pd.read_csv(os.path.join(PATH_TO_DATA, 'train_log1p_recommends.csv'), \n",
    "                           index_col='id')\n",
    "y_train = train_target['log_recommends'].values"
   ]
  },
  {
   "cell_type": "code",
   "execution_count": 31,
   "metadata": {},
   "outputs": [],
   "source": [
    "train_part_size = int(0.7 * train_target.shape[0])\n",
    "X_train_part_sparse = X_train_sparse[:train_part_size, :]\n",
    "y_train_part = y_train[:train_part_size]\n",
    "X_valid_sparse =  X_train_sparse[train_part_size:, :]\n",
    "y_valid = y_train[train_part_size:]"
   ]
  },
  {
   "cell_type": "markdown",
   "metadata": {},
   "source": [
    "**Train a simple Ridge model and check MAE on the validation set.**"
   ]
  },
  {
   "cell_type": "code",
   "execution_count": 38,
   "metadata": {},
   "outputs": [],
   "source": [
    "clf = Ridge()\n",
    "clf.fit(X_valid_sparse, y_valid)\n",
    "\n",
    "prediction = clf.predict(X_valid_sparse)"
   ]
  },
  {
   "cell_type": "markdown",
   "metadata": {},
   "source": [
    "**Train the same Ridge with all available data, make predictions for the test set and form a submission file.**"
   ]
  },
  {
   "cell_type": "code",
   "execution_count": 34,
   "metadata": {},
   "outputs": [
    {
     "name": "stdout",
     "output_type": "stream",
     "text": [
      "CPU times: user 1min 4s, sys: 355 ms, total: 1min 5s\n",
      "Wall time: 1min 5s\n"
     ]
    }
   ],
   "source": [
    "%%time\n",
    "\n",
    "clf = Ridge()\n",
    "redge_test_pred = clf.fit(X_train_sparse, y_train)"
   ]
  },
  {
   "cell_type": "code",
   "execution_count": 35,
   "metadata": {},
   "outputs": [],
   "source": [
    "def write_submission_file(prediction, filename,\n",
    "                          path_to_sample=os.path.join(PATH_TO_DATA, \n",
    "                                                      'sample_submission.csv')):\n",
    "    submission = pd.read_csv(path_to_sample, index_col='id')\n",
    "    \n",
    "    submission['log_recommends'] = prediction\n",
    "    submission.to_csv(filename)"
   ]
  },
  {
   "cell_type": "code",
   "execution_count": 36,
   "metadata": {},
   "outputs": [
    {
     "ename": "NameError",
     "evalue": "name 'ridge_test_pred' is not defined",
     "output_type": "error",
     "traceback": [
      "\u001b[0;31m---------------------------------------------------------------------------\u001b[0m",
      "\u001b[0;31mNameError\u001b[0m                                 Traceback (most recent call last)",
      "\u001b[0;32m<ipython-input-36-32b857a4b21b>\u001b[0m in \u001b[0;36m<module>\u001b[0;34m\u001b[0m\n\u001b[0;32m----> 1\u001b[0;31m write_submission_file(ridge_test_pred, os.path.join(PATH_TO_DATA,\n\u001b[0m\u001b[1;32m      2\u001b[0m                                                     'assignment2_medium_submission.csv'))\n",
      "\u001b[0;31mNameError\u001b[0m: name 'ridge_test_pred' is not defined"
     ]
    }
   ],
   "source": [
    "write_submission_file(ridge_test_pred, os.path.join(PATH_TO_DATA,\n",
    "                                                    'assignment2_medium_submission.csv'))"
   ]
  },
  {
   "cell_type": "markdown",
   "metadata": {},
   "source": [
    "**Now's the time for dirty Kaggle hacks. Form a submission file with all zeros. Make a submission. What do you get if you think about it? How is it going to help you with modifying your predictions?**"
   ]
  },
  {
   "cell_type": "code",
   "execution_count": null,
   "metadata": {},
   "outputs": [],
   "source": [
    "write_submission_file(np.zeros_like(ridge_test_pred), \n",
    "                      os.path.join(PATH_TO_DATA,\n",
    "                                   'medium_all_zeros_submission.csv'))"
   ]
  },
  {
   "cell_type": "markdown",
   "metadata": {},
   "source": [
    "**Modify predictions in an appropriate way (based on your all-zero submission) and make a new submission.**"
   ]
  },
  {
   "cell_type": "code",
   "execution_count": null,
   "metadata": {},
   "outputs": [],
   "source": [
    "ridge_test_pred_modif = ridge_test_pred # You code here"
   ]
  },
  {
   "cell_type": "code",
   "execution_count": null,
   "metadata": {},
   "outputs": [],
   "source": [
    "write_submission_file(ridge_test_pred_modif, \n",
    "                      os.path.join(PATH_TO_DATA,\n",
    "                                   'assignment2_medium_submission_with_hack.csv'))"
   ]
  },
  {
   "cell_type": "markdown",
   "metadata": {},
   "source": [
    "Some ideas for improvement:\n",
    "\n",
    "- Engineer good features, this is the key to success. Some simple features will be based on publication time, authors, content length and so on\n",
    "- You may not ignore HTML and extract some features from there\n",
    "- You'd better experiment with your validation scheme. You should see a correlation between your local improvements and LB score\n",
    "- Try TF-IDF, ngrams, Word2Vec and GloVe embeddings\n",
    "- Try various NLP techniques like stemming and lemmatization\n",
    "- Tune hyperparameters. In our example, we've left only 50k features and used C=1 as a regularization parameter, this can be changed\n",
    "- SGD and Vowpal Wabbit will learn much faster\n",
    "- Play around with blending and/or stacking. An intro is given in [this Kernel](https://www.kaggle.com/kashnitsky/ridge-and-lightgbm-simple-blending) by @yorko \n",
    "- In our course, we don't cover neural nets. But it's not obliged to use GRUs/LSTMs/whatever in this competition.\n",
    "\n",
    "Good luck!\n",
    "\n",
    "<img src='../../img/kaggle_shakeup.png' width=50%>"
   ]
  }
 ],
 "metadata": {
  "kernelspec": {
   "display_name": "Python 3",
   "language": "python",
   "name": "python3"
  },
  "language_info": {
   "codemirror_mode": {
    "name": "ipython",
    "version": 3
   },
   "file_extension": ".py",
   "mimetype": "text/x-python",
   "name": "python",
   "nbconvert_exporter": "python",
   "pygments_lexer": "ipython3",
   "version": "3.7.1"
  }
 },
 "nbformat": 4,
 "nbformat_minor": 2
}
